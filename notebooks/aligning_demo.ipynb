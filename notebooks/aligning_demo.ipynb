{
 "cells": [
  {
   "cell_type": "code",
   "execution_count": 5,
   "id": "2ff95773",
   "metadata": {},
   "outputs": [],
   "source": [
    "# Raster Alignment Demonstrat+ion Script for AfricaPolis Data\n",
    "# This script demonstrates how to align rasters to a reference grid using the geoworkflow package\n",
    "\n",
    "import sys\n",
    "from concurrent.futures import ProcessPoolExecutor, as_completed\n",
    "from typing import List, Tuple, Optional\n",
    "from pathlib import Path\n",
    "import logging\n",
    "# Import the necessary classes from geoworkflow\n",
    "try:\n",
    "    from geoworkflow.processors.spatial.clipper import ClippingProcessor\n",
    "    from geoworkflow.processors.aoi.processor import AOIProcessor\n",
    "    from geoworkflow.processors.integration.enrichment import StatisticalEnrichmentProcessor\n",
    "    from geoworkflow.schemas.config_models import (\n",
    "        AOIConfig, ClippingConfig, AlignmentConfig, StatisticalEnrichmentConfig, ResamplingMethod\n",
    "    )\n",
    "    from geoworkflow.processors.spatial.aligner import AlignmentProcessor, align_rasters\n",
    "    from geoworkflow.core.base import ProcessingResult\n",
    "    from geoworkflow.core.logging_setup import setup_logging\n",
    "    \n",
    "except ImportError as e:\n",
    "    print(f\"Error importing GeoWorkflow modules: {e}\")\n",
    "    print(\"Please ensure you're running from the project root with the correct environment activated.\")\n",
    "    sys.exit(1)\n",
    "\n",
    "# Set up logging for better visibility of the process\n",
    "logging.basicConfig(level=logging.INFO, format='%(asctime)s - %(levelname)s - %(message)s')\n",
    "logger = logging.getLogger(__name__)"
   ]
  },
  {
   "cell_type": "markdown",
   "id": "ce0b8901",
   "metadata": {},
   "source": [
    "## Defining and creating an AOI\n",
    "AOI, area of interest, defines what area you want to analyze. The general input is a geospatial vector file (i.e., shp, geojson, gpkg) and the output is another geospatial vector file. \n",
    "Currently, our analyses have focused on agglomorations or countries. AOIProcessor can handle these or any other vectors. Users don't have to always create an AOI for every study. For example, if you are studying only Kenya, Tanzania, Ghana, and Togo, then you could theoretically just use the output file generated below in study after study, without every having to run the following block code again."
   ]
  },
  {
   "cell_type": "code",
   "execution_count": 6,
   "id": "c3b57797",
   "metadata": {},
   "outputs": [
    {
     "name": "stderr",
     "output_type": "stream",
     "text": [
      "2025-09-18 22:41:56,717 - INFO - Starting AOIProcessor processing\n"
     ]
    },
    {
     "data": {
      "application/vnd.jupyter.widget-view+json": {
       "model_id": "591ff690d674408180567e92f97da783",
       "version_major": 2,
       "version_minor": 0
      },
      "text/plain": [
       "Output()"
      ]
     },
     "metadata": {},
     "output_type": "display_data"
    },
    {
     "name": "stderr",
     "output_type": "stream",
     "text": [
      "2025-09-18 22:41:59,637 - INFO - Loading administrative boundaries\n"
     ]
    },
    {
     "name": "stderr",
     "output_type": "stream",
     "text": [
      "2025-09-18 22:42:02,520 - INFO - Filtering 4 countries\n",
      "2025-09-18 22:42:02,522 - INFO - Dissolving country boundaries into single polygon\n"
     ]
    },
    {
     "name": "stderr",
     "output_type": "stream",
     "text": [
      "2025-09-18 22:42:03,208 - INFO - Applying 50.0 km buffer\n",
      "2025-09-18 22:42:03,208 - WARNING - Using Africa Albers Equal Area Conic (ESRI:102022) for buffering operations. This projection is optimized for African datasets and may not be accurate for other continents. For non-African data, consider using a more appropriate projected coordinate system (e.g., UTM zones or continental equal-area projections).\n",
      "2025-09-18 22:42:03,209 - INFO - Reprojecting from EPSG:4326 to ESRI:102022 for buffering\n",
      "2025-09-18 22:42:03,222 - INFO - Applying 50.0km (50000.0m) buffer\n"
     ]
    },
    {
     "name": "stderr",
     "output_type": "stream",
     "text": [
      "2025-09-18 22:42:05,250 - INFO - Reprojecting back to EPSG:4326\n",
      "2025-09-18 22:42:05,252 - INFO - Saving AOI to ../data/aoi/TogGhaTanKen50km.geojson\n",
      "2025-09-18 22:42:05,261 - INFO - Created 1 records\n"
     ]
    },
    {
     "data": {
      "text/html": [
       "<pre style=\"white-space:pre;overflow-x:auto;line-height:normal;font-family:Menlo,'DejaVu Sans Mono',consolas,'Courier New',monospace\"></pre>\n"
      ],
      "text/plain": []
     },
     "metadata": {},
     "output_type": "display_data"
    },
    {
     "name": "stderr",
     "output_type": "stream",
     "text": [
      "2025-09-18 22:42:05,268 - INFO - AOI saved successfully completed: 4/6 items in 5.6s (0.7 items/sec)\n",
      "2025-09-18 22:42:05,269 - INFO - Successfully completed AOIProcessor processing\n"
     ]
    }
   ],
   "source": [
    "\n",
    "# start by configuring the AOI \n",
    "aoi_config = AOIConfig(\n",
    "    input_file=\"../data/00_source/boundaries/africa_boundaries.geojson\",\n",
    "    country_name_column=\"NAME_0\",  # country name column in geojson above\n",
    "    countries=[\"Togo\", \"Ghana\", \"Tanzania\", \"Kenya\"], # these country names must match names in NAME_0\n",
    "    dissolve_boundaries=True,  # Combine all countries into single polygon\n",
    "    buffer_km=50,  # Small buffer to capture env. data from boundaries\n",
    "    output_file=\"../data/aoi/TogGhaTanKen50km.geojson\" # target countries above, now dissolved and with a 50 km buffer\n",
    ")\n",
    "\n",
    "# Create the AOI\n",
    "processor = AOIProcessor(aoi_config) \n",
    "result = processor.process() "
   ]
  },
  {
   "cell_type": "markdown",
   "id": "c1ff9646",
   "metadata": {},
   "source": [
    "## Clipping data to AOI\n",
    "\n",
    "\n",
    "Clipping tif and vector files can be useful for reducing computational requirements, making further algorithms faster. The following functionality enables users to clip multiple files at once, just by pointing at a parent directory. Note that the function is recursive. Setting `input_directory = \"../data/01_extracted/\"`, means that even a raster in `\"../data/01_extracted/dir1/dir2/\"` will be clipped."
   ]
  },
  {
   "cell_type": "code",
   "execution_count": 7,
   "id": "000f7330",
   "metadata": {},
   "outputs": [
    {
     "data": {
      "text/plain": [
       "'#Set clipping settings\\nclip_config = ClippingConfig(\\n    input_directory=\"../data/01_extracted/Datasets_2025Fall\",  # where are your unclipped tiffs located?\\n    output_dir=\"../data/02_clipped/clipped_datasets_2025Fall\", # where do you want the clipped tiffs to be saved?\\n    aoi_file=\"../data/aoi/TogGhaTanKen50km.geojson\", # aoi defined in the previous step\\n    raster_pattern=\"*.tif\",\\n    all_touched=True, # True: include all pixels touched by the AOI. False: only include pixels whose center points are in the AOI\\n)\\n\\n#Run clipping functions\\nprocessor = ClippingProcessor(clip_config)\\nresult = processor.process() \\n'"
      ]
     },
     "execution_count": 7,
     "metadata": {},
     "output_type": "execute_result"
    }
   ],
   "source": [
    "\n",
    "\"\"\"#Set clipping settings\n",
    "clip_config = ClippingConfig(\n",
    "    input_directory=\"../data/01_extracted/Datasets_2025Fall\",  # where are your unclipped tiffs located?\n",
    "    output_dir=\"../data/02_clipped/clipped_datasets_2025Fall\", # where do you want the clipped tiffs to be saved?\n",
    "    aoi_file=\"../data/aoi/TogGhaTanKen50km.geojson\", # aoi defined in the previous step\n",
    "    raster_pattern=\"*.tif\",\n",
    "    all_touched=True, # True: include all pixels touched by the AOI. False: only include pixels whose center points are in the AOI\n",
    ")\n",
    "\n",
    "#Run clipping functions\n",
    "processor = ClippingProcessor(clip_config)\n",
    "result = processor.process() \n",
    "\"\"\""
   ]
  },
  {
   "cell_type": "code",
   "execution_count": 8,
   "id": "1be503be",
   "metadata": {},
   "outputs": [
    {
     "name": "stderr",
     "output_type": "stream",
     "text": [
      "2025-09-18 22:42:05,290 - INFO - AlignmentProcessor initialized\n",
      "2025-09-18 22:42:05,293 - INFO - Enhanced NoData Detection: True\n",
      "2025-09-18 22:42:05,294 - INFO - NoData Method: auto\n",
      "2025-09-18 22:42:05,295 - INFO - Starting AlignmentProcessor processing\n",
      "2025-09-18 22:42:05,300 - INFO - Starting raster alignment processing\n",
      "2025-09-18 22:42:05,303 - INFO - Reference raster loaded: ../data/02_clipped/clipped_datasets_2025Fall/WSF3D/WSF3D_V02_BuildingHeight.tif\n",
      "2025-09-18 22:42:05,303 - INFO -   CRS: EPSG:4326\n",
      "2025-09-18 22:42:05,304 - INFO -   Shape: 30573 x 59278\n",
      "2025-09-18 22:42:05,305 - INFO -   Resolution: 0.00 x 0.00\n",
      "2025-09-18 22:42:05,307 - INFO -   Bounds: BoundingBox(left=-3.736055522222216, bottom=-12.174055599999996, right=42.3690555888889, top=11.604944400000008)\n",
      "2025-09-18 22:42:05,310 - INFO - Found 7 raster files to align\n"
     ]
    },
    {
     "data": {
      "application/vnd.jupyter.widget-view+json": {
       "model_id": "197e4ce1ecbd4f51be6d7031eb42f135",
       "version_major": 2,
       "version_minor": 0
      },
      "text/plain": [
       "Output()"
      ]
     },
     "metadata": {},
     "output_type": "display_data"
    },
    {
     "data": {
      "text/html": [
       "<pre style=\"white-space:pre;overflow-x:auto;line-height:normal;font-family:Menlo,'DejaVu Sans Mono',consolas,'Courier New',monospace\"></pre>\n"
      ],
      "text/plain": []
     },
     "metadata": {},
     "output_type": "display_data"
    },
    {
     "name": "stderr",
     "output_type": "stream",
     "text": [
      "2025-09-18 22:42:05,316 - INFO - Aligning rasters completed: 7/7 items in 0.0s (1247.1 items/sec)\n",
      "2025-09-18 22:42:05,316 - INFO - Aligned 7/7 rasters successfully\n",
      "2025-09-18 22:42:05,316 - INFO - Successfully completed AlignmentProcessor processing\n"
     ]
    }
   ],
   "source": [
    "align_config = AlignmentConfig(\n",
    "    reference_raster=\"../data/02_clipped/clipped_datasets_2025Fall/WSF3D/WSF3D_V02_BuildingHeight.tif\",\n",
    "    input_directory=\"../data/02_clipped/clipped_datasets_2025Fall\",\n",
    "    output_dir=\"../data/03_processed/aligned_datasets_2025fall\",\n",
    "    recursive=True\n",
    ")\n",
    "processor = AlignmentProcessor(align_config) \n",
    "result = processor.process()    \n"
   ]
  }
 ],
 "metadata": {
  "kernelspec": {
   "display_name": "geoworkflow",
   "language": "python",
   "name": "python3"
  },
  "language_info": {
   "codemirror_mode": {
    "name": "ipython",
    "version": 3
   },
   "file_extension": ".py",
   "mimetype": "text/x-python",
   "name": "python",
   "nbconvert_exporter": "python",
   "pygments_lexer": "ipython3",
   "version": "3.10.18"
  }
 },
 "nbformat": 4,
 "nbformat_minor": 5
}
