{
 "cells": [
  {
   "cell_type": "markdown",
   "metadata": {},
   "source": [
    "# OSM Highway Extraction Example\n",
    "\n",
    "This notebook demonstrates how to extract highway networks from OpenStreetMap\n",
    "using the OSM Highways processor.\n",
    "\n",
    "## Features\n",
    "- Download regional OSM data from Geofabrik\n",
    "- Extract highways for any AOI\n",
    "- Filter by highway type\n",
    "- Export to multiple formats\n",
    "- Track data freshness"
   ]
  },
  {
   "cell_type": "code",
   "execution_count": null,
   "metadata": {},
   "outputs": [],
   "source": [
    "# Imports\n",
    "from pathlib import Path\n",
    "import geopandas as gpd\n",
    "import matplotlib.pyplot as plt\n",
    "\n",
    "from geoworkflow.processors.extraction.osm_highways import OSMHighwaysProcessor\n",
    "from geoworkflow.schemas.osm_highways_config import OSMHighwaysConfig\n",
    "from geoworkflow.utils.geofabrik_utils import list_cached_pbfs"
   ]
  },
  {
   "cell_type": "markdown",
   "metadata": {},
   "source": [
    "## Example 1: Basic Extraction\n",
    "\n",
    "Extract all highways for a city AOI."
   ]
  },
  {
   "cell_type": "code",
   "execution_count": null,
   "metadata": {},
   "outputs": [],
   "source": [
    "# Setup paths\n",
    "aoi_file = Path(\"../data/aoi/nairobi_aoi.geojson\")\n",
    "output_dir = Path(\"../data/extracted/highways\")\n",
    "output_dir.mkdir(parents=True, exist_ok=True)\n",
    "\n",
    "# Create config\n",
    "config = OSMHighwaysConfig(\n",
    "    aoi_file=aoi_file,\n",
    "    output_dir=output_dir,\n",
    "    geofabrik_regions=[\"kenya\"],  # Or None for auto-detect\n",
    "    highway_types=\"all\",  # Extract all highway types\n",
    "    include_attributes=[\"highway\", \"name\", \"surface\", \"lanes\"],\n",
    "    export_format=\"geojson\",\n",
    "    max_cache_age_days=30  # Warn if data >30 days old\n",
    ")\n",
    "\n",
    "# Run extraction\n",
    "processor = OSMHighwaysProcessor(config)\n",
    "result = processor.process()\n",
    "\n",
    "print(f\"Success: {result.success}\")\n",
    "print(f\"Extracted: {result.processed_count} highway segments\")\n",
    "print(f\"Output: {processor.output_file}\")"
   ]
  },
  {
   "cell_type": "markdown",
   "metadata": {},
   "source": [
    "## Example 2: Major Roads Only\n",
    "\n",
    "Extract only major roads (motorway through tertiary)."
   ]
  },
  {
   "cell_type": "code",
   "execution_count": null,
   "metadata": {},
   "outputs": [],
   "source": [
    "config_major = OSMHighwaysConfig(\n",
    "    aoi_file=aoi_file,\n",
    "    output_dir=output_dir,\n",
    "    highway_types=[\"motorway\", \"trunk\", \"primary\", \"secondary\", \"tertiary\"],\n",
    "    include_attributes=[\"highway\", \"name\", \"ref\", \"maxspeed\"],\n",
    "    export_format=\"geojson\"\n",
    ")\n",
    "\n",
    "processor_major = OSMHighwaysProcessor(config_major)\n",
    "result_major = processor_major.process()\n",
    "\n",
    "print(f\"Major roads extracted: {result_major.processed_count}\")"
   ]
  },
  {
   "cell_type": "markdown",
   "metadata": {},
   "source": [
    "## Example 3: Visualize Results"
   ]
  },
  {
   "cell_type": "code",
   "execution_count": null,
   "metadata": {},
   "outputs": [],
   "source": [
    "# Load results\n",
    "highways = gpd.read_file(processor.output_file)\n",
    "aoi = gpd.read_file(aoi_file)\n",
    "\n",
    "# Plot\n",
    "fig, ax = plt.subplots(figsize=(12, 12))\n",
    "aoi.boundary.plot(ax=ax, color='red', linewidth=2, label='AOI')\n",
    "\n",
    "# Color by highway type\n",
    "highway_colors = {\n",
    "    'motorway': 'darkblue',\n",
    "    'trunk': 'blue',\n",
    "    'primary': 'green',\n",
    "    'secondary': 'orange',\n",
    "    'tertiary': 'yellow',\n",
    "    'residential': 'lightgray'\n",
    "}\n",
    "\n",
    "for htype, color in highway_colors.items():\n",
    "    subset = highways[highways['highway'] == htype]\n",
    "    if len(subset) > 0:\n",
    "        subset.plot(ax=ax, color=color, linewidth=1, label=htype)\n",
    "\n",
    "plt.legend()\n",
    "plt.title(\"Extracted Highway Network\")\n",
    "plt.show()"
   ]
  },
  {
   "cell_type": "markdown",
   "metadata": {},
   "source": [
    "## Example 4: Check Cache Status"
   ]
  },
  {
   "cell_type": "code",
   "execution_count": null,
   "metadata": {},
   "outputs": [],
   "source": [
    "cache_dir = Path.home() / \".geoworkflow\" / \"osm_cache\"\n",
    "\n",
    "print(\"Cached PBF files:\")\n",
    "for region, meta in list_cached_pbfs(cache_dir):\n",
    "    print(f\"  {region}: {meta.file_size_mb:.1f} MB, {meta.age_days()} days old\")\n",
    "    print(f\"    Downloaded: {meta.download_date}\")\n",
    "    print(f\"    Source: {meta.geofabrik_url}\")"
   ]
  },
  {
   "cell_type": "markdown",
   "metadata": {},
   "source": [
    "## Example 5: Multi-Region Extraction\n",
    "\n",
    "Extract highways spanning multiple countries."
   ]
  },
  {
   "cell_type": "code",
   "execution_count": null,
   "metadata": {},
   "outputs": [],
   "source": [
    "# Example: East African corridor\n",
    "config_multi = OSMHighwaysConfig(\n",
    "    aoi_file=Path(\"../data/aoi/east_africa_corridor.geojson\"),\n",
    "    output_dir=output_dir,\n",
    "    geofabrik_regions=[\"kenya\", \"tanzania\", \"uganda\"],\n",
    "    highway_types=[\"motorway\", \"trunk\", \"primary\"],\n",
    "    export_format=\"geoparquet\"  # Better for large datasets\n",
    ")\n",
    "\n",
    "processor_multi = OSMHighwaysProcessor(config_multi)\n",
    "result_multi = processor_multi.process()\n",
    "\n",
    "print(f\"Multi-region extraction: {result_multi.processed_count} segments\")"
   ]
  },
  {
   "cell_type": "markdown",
   "metadata": {},
   "source": [
    "## Example 6: Export to Multiple Formats"
   ]
  },
  {
   "cell_type": "code",
   "execution_count": null,
   "metadata": {},
   "outputs": [],
   "source": [
    "# Export same data to different formats\n",
    "formats = [\"geojson\", \"shapefile\", \"geoparquet\"]\n",
    "\n",
    "for fmt in formats:\n",
    "    config_fmt = OSMHighwaysConfig(\n",
    "        aoi_file=aoi_file,\n",
    "        output_dir=output_dir / fmt,\n",
    "        geofabrik_regions=[\"kenya\"],\n",
    "        export_format=fmt\n",
    "    )\n",
    "    \n",
    "    processor_fmt = OSMHighwaysProcessor(config_fmt)\n",
    "    result_fmt = processor_fmt.process()\n",
    "    \n",
    "    file_size = processor_fmt.output_file.stat().st_size / (1024**2)\n",
    "    print(f\"{fmt}: {file_size:.2f} MB\")"
   ]
  }
 ],
 "metadata": {
  "kernelspec": {
   "display_name": "Python 3",
   "language": "python",
   "name": "python3"
  }
 },
 "nbformat": 4,
 "nbformat_minor": 4
}