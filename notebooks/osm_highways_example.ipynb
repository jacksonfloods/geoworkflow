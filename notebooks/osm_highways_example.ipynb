{
 "cells": [
  {
   "cell_type": "markdown",
   "metadata": {},
   "source": [
    "# OSM Highway Extraction Example\n",
    "\n",
    "This notebook demonstrates how to extract highway networks from OpenStreetMap\n",
    "using the OSM Highways processor.\n",
    "\n",
    "## Features\n",
    "- Download regional OSM data from Geofabrik\n",
    "- Extract highways for any AOI\n",
    "- Filter by highway type\n",
    "- Export to multiple formats\n",
    "- Track data freshness"
   ]
  },
  {
   "cell_type": "code",
   "execution_count": 1,
   "metadata": {},
   "outputs": [],
   "source": [
    "# Imports\n",
    "from pathlib import Path\n",
    "import geopandas as gpd\n",
    "import matplotlib.pyplot as plt\n",
    "\n",
    "from geoworkflow.processors.extraction.osm_highways import OSMHighwaysProcessor\n",
    "from geoworkflow.schemas.osm_highways_config import OSMHighwaysConfig\n",
    "from geoworkflow.utils.geofabrik_utils import list_cached_pbfs"
   ]
  },
  {
   "cell_type": "code",
   "execution_count": 2,
   "metadata": {},
   "outputs": [
    {
     "data": {
      "application/vnd.jupyter.widget-view+json": {
       "model_id": "87d9a33a3af74592ae3f3e24d04d7c00",
       "version_major": 2,
       "version_minor": 0
      },
      "text/plain": [
       "Output()"
      ]
     },
     "metadata": {},
     "output_type": "display_data"
    },
    {
     "data": {
      "text/html": [
       "<pre style=\"white-space:pre;overflow-x:auto;line-height:normal;font-family:Menlo,'DejaVu Sans Mono',consolas,'Courier New',monospace\"></pre>\n"
      ],
      "text/plain": []
     },
     "metadata": {},
     "output_type": "display_data"
    },
    {
     "name": "stdout",
     "output_type": "stream",
     "text": [
      "✅ Successfully created AOI with 1 features\n",
      "Processing time: 6.89s\n",
      "Output: ../data/aoi/accra_aoi.geojson\n"
     ]
    }
   ],
   "source": [
    "from geoworkflow.schemas.config_models import AOIConfig\n",
    "from geoworkflow.processors.aoi.processor import AOIProcessor\n",
    "\n",
    "# Define AOI output path\n",
    "aoi_file = Path(\"../data/aoi/accra_aoi.geojson\")\n",
    "#aoi_file = Path(\"../data/aoi/accra_sample_aoi.geojson\")\n",
    "\n",
    "# Create AOI configuration for Accra\n",
    "aoi_config = AOIConfig(\n",
    "    input_file=Path(\"../data/00_source/boundaries/agglomorations.gpkg\"),\n",
    "    country_name_column=\"Agglomeration_Name\",\n",
    "    countries=[\"Accra\"],\n",
    "    buffer_km=0,\n",
    "    dissolve_boundaries=False,\n",
    "    output_file=aoi_file\n",
    ")\n",
    "\n",
    "# Create and run the processor\n",
    "aoi_processor = AOIProcessor(aoi_config)\n",
    "aoi_result = aoi_processor.process()\n",
    "\n",
    "# Check results\n",
    "if aoi_result.success:\n",
    "    print(f\"✅ {aoi_result.message}\")\n",
    "    print(f\"Processing time: {aoi_result.elapsed_time:.2f}s\")\n",
    "    print(f\"Output: {aoi_file}\")\n",
    "else:\n",
    "    print(f\"❌ Failed: {aoi_result.message}\")"
   ]
  },
  {
   "cell_type": "markdown",
   "metadata": {},
   "source": [
    "## Example 1: Basic Extraction\n",
    "\n",
    "Extract all highways for a city AOI."
   ]
  },
  {
   "cell_type": "code",
   "execution_count": 3,
   "metadata": {},
   "outputs": [
    {
     "name": "stderr",
     "output_type": "stream",
     "text": [
      "/Users/juancheeto/miniconda3/envs/geoworkflow/lib/python3.10/site-packages/pyrosm/networks.py:37: FutureWarning: ChainedAssignmentError: behaviour will change in pandas 3.0!\n",
      "You are setting values through chained assignment. Currently this works in certain cases, but when using Copy-on-Write (which will become the default behaviour in pandas 3.0) this will never work to update the original DataFrame or Series, because the intermediate object on which we are setting values will behave as a copy.\n",
      "A typical example is when you are setting values in a column of a DataFrame, like:\n",
      "\n",
      "df[\"col\"][row_indexer] = value\n",
      "\n",
      "Use `df.loc[row_indexer, \"col\"] = values` instead, to perform the assignment in a single step and ensure this keeps updating the original `df`.\n",
      "\n",
      "See the caveats in the documentation: https://pandas.pydata.org/pandas-docs/stable/user_guide/indexing.html#returning-a-view-versus-a-copy\n",
      "\n",
      "  edges, nodes = prepare_geodataframe(\n"
     ]
    },
    {
     "name": "stdout",
     "output_type": "stream",
     "text": [
      "Success: True\n",
      "Extracted: 0 highway segments\n",
      "Output: None\n"
     ]
    }
   ],
   "source": [
    "# Setup paths\n",
    "aoi_file = Path(\"../data/aoi/accra_aoi.geojson\")\n",
    "\n",
    "output_dir = Path(\"../data/01_extracted/accra_highways\")\n",
    "output_dir.mkdir(parents=True, exist_ok=True)\n",
    "\n",
    "# Create config\n",
    "config = OSMHighwaysConfig(\n",
    "    aoi_file=aoi_file,\n",
    "    output_dir=output_dir,\n",
    "    highway_types=\"all\",  # Extract all highway types\n",
    "    include_attributes=[\"highway\", \"name\", \"surface\", \"lanes\"],\n",
    "    export_format=\"geojson\",\n",
    "    max_cache_age_days=30  # Warn if data >30 days old\n",
    ")\n",
    "\n",
    "# Run extraction\n",
    "processor = OSMHighwaysProcessor(config)\n",
    "result = processor.process()\n",
    "\n",
    "print(f\"Success: {result.success}\")\n",
    "print(f\"Extracted: {result.processed_count} highway segments\")\n",
    "print(f\"Output: {processor.output_file}\")"
   ]
  },
  {
   "cell_type": "markdown",
   "metadata": {},
   "source": [
    "## Example 2: Major Roads Only\n",
    "\n",
    "Extract only major roads (motorway through tertiary)."
   ]
  },
  {
   "cell_type": "code",
   "execution_count": null,
   "metadata": {},
   "outputs": [],
   "source": [
    "config_major = OSMHighwaysConfig(\n",
    "    aoi_file=aoi_file,\n",
    "    output_dir=output_dir,\n",
    "    highway_types=[\"motorway\", \"trunk\", \"primary\", \"secondary\", \"tertiary\"],\n",
    "    include_attributes=[\"highway\", \"name\", \"ref\", \"maxspeed\"],\n",
    "    export_format=\"geojson\"\n",
    ")\n",
    "\n",
    "processor_major = OSMHighwaysProcessor(config_major)\n",
    "result_major = processor_major.process()\n",
    "\n",
    "print(f\"Major roads extracted: {result_major.processed_count}\")"
   ]
  },
  {
   "cell_type": "markdown",
   "metadata": {},
   "source": [
    "## Example 3: Visualize Results"
   ]
  },
  {
   "cell_type": "code",
   "execution_count": null,
   "metadata": {},
   "outputs": [],
   "source": [
    "# Load results\n",
    "highways = gpd.read_file(processor.output_file)\n",
    "aoi = gpd.read_file(aoi_file)\n",
    "\n",
    "# Plot\n",
    "fig, ax = plt.subplots(figsize=(12, 12))\n",
    "aoi.boundary.plot(ax=ax, color='red', linewidth=2, label='AOI')\n",
    "\n",
    "# Color by highway type\n",
    "highway_colors = {\n",
    "    'motorway': 'darkblue',\n",
    "    'trunk': 'blue',\n",
    "    'primary': 'green',\n",
    "    'secondary': 'orange',\n",
    "    'tertiary': 'yellow',\n",
    "    'residential': 'lightgray'\n",
    "}\n",
    "\n",
    "for htype, color in highway_colors.items():\n",
    "    subset = highways[highways['highway'] == htype]\n",
    "    if len(subset) > 0:\n",
    "        subset.plot(ax=ax, color=color, linewidth=1, label=htype)\n",
    "\n",
    "plt.legend()\n",
    "plt.title(\"Extracted Highway Network\")\n",
    "plt.show()"
   ]
  },
  {
   "cell_type": "markdown",
   "metadata": {},
   "source": [
    "## Example 4: Check Cache Status"
   ]
  },
  {
   "cell_type": "code",
   "execution_count": null,
   "metadata": {},
   "outputs": [],
   "source": [
    "cache_dir = Path.home() / \".geoworkflow\" / \"osm_cache\"\n",
    "\n",
    "print(\"Cached PBF files:\")\n",
    "for region, meta in list_cached_pbfs(cache_dir):\n",
    "    print(f\"  {region}: {meta.file_size_mb:.1f} MB, {meta.age_days()} days old\")\n",
    "    print(f\"    Downloaded: {meta.download_date}\")\n",
    "    print(f\"    Source: {meta.geofabrik_url}\")"
   ]
  },
  {
   "cell_type": "markdown",
   "metadata": {},
   "source": [
    "## Example 5: Multi-Region Extraction\n",
    "\n",
    "Extract highways spanning multiple countries."
   ]
  },
  {
   "cell_type": "code",
   "execution_count": null,
   "metadata": {},
   "outputs": [],
   "source": [
    "# Example: East African corridor\n",
    "config_multi = OSMHighwaysConfig(\n",
    "    aoi_file=Path(\"../data/aoi/east_africa_corridor.geojson\"),\n",
    "    output_dir=output_dir,\n",
    "    geofabrik_regions=[\"kenya\", \"tanzania\", \"uganda\"],\n",
    "    highway_types=[\"motorway\", \"trunk\", \"primary\"],\n",
    "    export_format=\"geoparquet\"  # Better for large datasets\n",
    ")\n",
    "\n",
    "processor_multi = OSMHighwaysProcessor(config_multi)\n",
    "result_multi = processor_multi.process()\n",
    "\n",
    "print(f\"Multi-region extraction: {result_multi.processed_count} segments\")"
   ]
  },
  {
   "cell_type": "markdown",
   "metadata": {},
   "source": [
    "## Example 6: Export to Multiple Formats"
   ]
  },
  {
   "cell_type": "code",
   "execution_count": null,
   "metadata": {},
   "outputs": [],
   "source": [
    "# Export same data to different formats\n",
    "formats = [\"geojson\", \"shapefile\", \"geoparquet\"]\n",
    "\n",
    "for fmt in formats:\n",
    "    config_fmt = OSMHighwaysConfig(\n",
    "        aoi_file=aoi_file,\n",
    "        output_dir=output_dir / fmt,\n",
    "        geofabrik_regions=[\"kenya\"],\n",
    "        export_format=fmt\n",
    "    )\n",
    "    \n",
    "    processor_fmt = OSMHighwaysProcessor(config_fmt)\n",
    "    result_fmt = processor_fmt.process()\n",
    "    \n",
    "    file_size = processor_fmt.output_file.stat().st_size / (1024**2)\n",
    "    print(f\"{fmt}: {file_size:.2f} MB\")"
   ]
  }
 ],
 "metadata": {
  "kernelspec": {
   "display_name": "geoworkflow",
   "language": "python",
   "name": "python3"
  },
  "language_info": {
   "codemirror_mode": {
    "name": "ipython",
    "version": 3
   },
   "file_extension": ".py",
   "mimetype": "text/x-python",
   "name": "python",
   "nbconvert_exporter": "python",
   "pygments_lexer": "ipython3",
   "version": "3.10.18"
  }
 },
 "nbformat": 4,
 "nbformat_minor": 4
}
