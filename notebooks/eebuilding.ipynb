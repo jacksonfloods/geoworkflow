{
 "cells": [
  {
   "cell_type": "code",
   "execution_count": 1,
   "id": "d790db8b",
   "metadata": {},
   "outputs": [],
   "source": [
    "from pathlib import Path\n",
    "import logging\n",
    "from typing import Optional, Dict, Any\n",
    "import json\n",
    "\n",
    "from geoworkflow.schemas.config_models import AOIConfig\n",
    "from geoworkflow.processors.aoi.processor import AOIProcessor\n",
    "from geoworkflow.utils.earth_engine_utils import EarthEngineAuth, OpenBuildingsAPI\n",
    "from geoworkflow.core.exceptions import EarthEngineError, EarthEngineAuthenticationError"
   ]
  },
  {
   "cell_type": "code",
   "execution_count": 2,
   "id": "ee410e3a",
   "metadata": {},
   "outputs": [
    {
     "data": {
      "application/vnd.jupyter.widget-view+json": {
       "model_id": "23d74023f8dd42a9a11913e0e503bfc5",
       "version_major": 2,
       "version_minor": 0
      },
      "text/plain": [
       "Output()"
      ]
     },
     "metadata": {},
     "output_type": "display_data"
    },
    {
     "data": {
      "text/html": [
       "<pre style=\"white-space:pre;overflow-x:auto;line-height:normal;font-family:Menlo,'DejaVu Sans Mono',consolas,'Courier New',monospace\"></pre>\n"
      ],
      "text/plain": []
     },
     "metadata": {},
     "output_type": "display_data"
    },
    {
     "name": "stdout",
     "output_type": "stream",
     "text": [
      "✅ Successfully created AOI with 1 features\n",
      "Processing time: 5.29s\n",
      "Output saved to: ../data/aoi/accra_aoi.geojson\n",
      "\n",
      "Metadata:\n",
      "  output_file: ../data/aoi/accra_aoi.geojson\n",
      "  feature_count: 1\n",
      "  countries_processed: 1\n",
      "  buffer_applied_km: 0.0\n",
      "  boundaries_dissolved: False\n",
      "  output_crs: EPSG:4326\n"
     ]
    }
   ],
   "source": [
    "\"\"\"SEMI-OPTIONAL\n",
    "This area demonstrates how to specify an area of interest (AOI). Specifically, it generates an AOI\n",
    "of the Accra, Ghana, shape defined in AFRICAPOLIS2020.geojson\n",
    "For demonstration purposes, the 'aoi' file name might be changed in the following blocks.\n",
    "\"\"\"\n",
    "aoi = \"../data/aoi/accra_aoi.geojson\"\n",
    "# Create AOI configuration for Accra\n",
    "config = AOIConfig(\n",
    "    input_file=Path(\"../data/01_extracted/AFRICAPOLIS2020.geojson\"),\n",
    "    country_name_column=\"agglosName\",  # Use agglosName instead of country column\n",
    "    countries=[\"Accra\"],  # Filter for Accra agglomeration\n",
    "    buffer_km=0,  # No buffer \n",
    "    dissolve_boundaries=False,  # Keep original feature structure\n",
    "    output_file=Path(aoi)\n",
    ")\n",
    "\n",
    "# Create and run the processor\n",
    "processor = AOIProcessor(config)\n",
    "result = processor.process()\n",
    "\n",
    "# Check results\n",
    "if result.success:\n",
    "    print(f\"✅ {result.message}\")\n",
    "    print(f\"Processing time: {result.elapsed_time:.2f}s\")\n",
    "    print(f\"Output saved to: {config.output_file}\")\n",
    "    \n",
    "    # Display metadata\n",
    "    if result.metadata:\n",
    "        print(\"\\nMetadata:\")\n",
    "        for key, value in result.metadata.items():\n",
    "            print(f\"  {key}: {value}\")\n",
    "else:\n",
    "    print(f\"❌ Processing failed: {result.message}\")"
   ]
  },
  {
   "cell_type": "code",
   "execution_count": 3,
   "id": "4f39a4a7",
   "metadata": {},
   "outputs": [],
   "source": [
    "\"\"\"OPTIONAL:\n",
    "Create a status logging tracker to monitor progress.\n",
    "Users can create code without including this \"logging\" functionality.\n",
    "The logging statements work like print staments, but can also save to file. \n",
    "They're helpful for debugging and tracking execution in larger workflows.\n",
    "\n",
    "If you remove this block, make sure to also remove related logging calls in the code.\n",
    "\"\"\"\n",
    "# Setup logging\n",
    "logging.basicConfig(\n",
    "    level=logging.INFO,\n",
    "    format='%(asctime)s - %(levelname)s - %(message)s'\n",
    ")\n",
    "logger = logging.getLogger(__name__)"
   ]
  },
  {
   "cell_type": "code",
   "execution_count": 4,
   "id": "89959b5c",
   "metadata": {},
   "outputs": [],
   "source": [
    "\"\"\"\n",
    "This step fetches the authorization details to connect to Google Earth Engine.\n",
    "The auth script is not shared on Github.\n",
    "You will have to either create your own and place it in the config folder (make sure to change the name accordingly),\n",
    "or contact the author to get access to the file. \n",
    "\"\"\"\n",
    "\n",
    "auth_path = Path(\"../config/auth/africapolis-005f188d49d6.json\")\n",
    "with open(auth_path, 'r') as f:\n",
    "        auth_data:dict = json.load(f)"
   ]
  },
  {
   "cell_type": "code",
   "execution_count": null,
   "id": "853206a6",
   "metadata": {},
   "outputs": [
    {
     "name": "stderr",
     "output_type": "stream",
     "text": [
      "2025-09-27 09:32:29,926 - INFO - 🚀 Starting Earth Engine building download...\n",
      "2025-09-27 09:32:29,927 - INFO - 📍 Input area: ../data/aoi/accra_aoi.geojson\n",
      "2025-09-27 09:32:29,928 - INFO - 💾 Output file: ../data/02_clipped/accra/accra_buildings.geojson\n",
      "2025-09-27 09:32:29,928 - INFO - 🎯 Confidence threshold: 0.75\n",
      "2025-09-27 09:32:29,929 - INFO - 🔐 Authenticating with Earth Engine...\n",
      "2025-09-27 09:32:29,929 - INFO - Using service account: africapolis-buildings-extracto@africapolis.iam.gserviceaccount.com\n",
      "2025-09-27 09:32:31,060 - INFO - Earth Engine authenticated with service account, project: africapolis\n",
      "2025-09-27 09:32:31,060 - INFO - ✅ Authenticated with project: africapolis\n"
     ]
    }
   ],
   "source": [
    "\"\"\"\n",
    "This block initiates the Earth Engine authentication.  \n",
    "\"\"\"\n",
    "\n",
    "logger.info(\"🔐 Authenticating with Earth Engine...\")\n",
    "\n",
    "\"\"\"The try-except block captures and logs errors during authentication, querying, and exporting.\n",
    "try-except blocks are OPTIONAL but you'll need to fix indentation if you remove them.\"\"\"\n",
    "try: \n",
    "    \n",
    "    # Start authetication.\n",
    "    authenticated_project_id = EarthEngineAuth.authenticate(\n",
    "        service_account_key=auth_path,\n",
    "        service_account_email=auth_data[\"client_email\"],\n",
    "        project_id=auth_data[\"project_id\"]\n",
    "    )\n",
    "    logger.info(f\"✅ Authenticated with project: {authenticated_project_id}\")\n",
    "\n",
    "    \"\"\"OPTIONAL: see note above try above\"\"\"\n",
    "except EarthEngineAuthenticationError as e:\n",
    "    logger.error(f\"❌ Authentication failed: {e}\")\n",
    "    print({\n",
    "        \"status\": \"error\", \n",
    "        \"error_type\": \"AuthenticationError\", \n",
    "        \"message\": str(e),\n",
    "        \"help\": \"Check your service account key and email configuration\"\n",
    "    })\n",
    "except Exception as e:\n",
    "    logger.error(f\"❌ Unexpected error: {e}\")\n",
    "    print({\n",
    "        \"status\": \"error\", \n",
    "        \"error_type\": \"GeneralError\", \n",
    "        \"message\": str(e),\n",
    "        \"help\": \"Check file paths and ensure all dependencies are installed\"\n",
    "    })"
   ]
  },
  {
   "cell_type": "code",
   "execution_count": 7,
   "id": "2932651e",
   "metadata": {},
   "outputs": [
    {
     "name": "stderr",
     "output_type": "stream",
     "text": [
      "2025-09-27 09:32:31,073 - INFO - 🏗️ Initializing Open Buildings API...\n",
      "2025-09-27 09:32:31,074 - INFO - Initialized Open Buildings API for dataset: GOOGLE/Research/open-buildings/v3/polygons\n"
     ]
    }
   ],
   "source": [
    "\"\"\"\n",
    "This block initializes the buildings API.\n",
    "\"\"\"\n",
    "\n",
    "\n",
    "\"\"\"The try-except block captures and logs errors during authentication, querying, and exporting.\n",
    "try-except blocks are OPTIONAL but you'll need to fix indentation if you remove them.\"\"\"\n",
    "try:\n",
    "    # Start: Initialize Open Buildings API\n",
    "    logger.info(\"🏗️ Initializing Open Buildings API...\")\n",
    "    buildings_api = OpenBuildingsAPI(\n",
    "        project_id=authenticated_project_id,\n",
    "        dataset_version=\"v3\"\n",
    "    )\n",
    "    \n",
    "except Exception as e:\n",
    "    logger.error(f\"❌ Unexpected error: {e}\")\n",
    "    result_summary = {\n",
    "        \"status\": \"error\", \n",
    "        \"error_type\": \"GeneralError\", \n",
    "        \"message\": str(e),\n",
    "        \"help\": \"Check file paths and ensure all dependencies are installed\"\n",
    "    }\n",
    "    print(result_summary)"
   ]
  },
  {
   "cell_type": "code",
   "execution_count": null,
   "id": "db7385fc",
   "metadata": {},
   "outputs": [],
   "source": [
    "confidence_threshold = 0.75  # OPTIONAL - confidence threshold for building detection (0.75 is default and recommended)\n",
    "max_features = None # OPTIONAL - limit number of buildings downloaded (None is the default, meaning no limit. No limits, bro)\n",
    "\n",
    "format_type = \"geojson\"\n",
    "\n",
    "\"\"\"aoi, building_output = ../data/aoi/accra_sample_aoi.geojson', \"../data/02_clipped/accra/accra_sample_buildings.geojson\"\n",
    " is a smaller sample area for testing and demonstration purposes. Comment the block if you want to run the full Accra area.\n",
    " \"\"\"\n",
    "building_output = \"../data/02_clipped/accra/accra_buildings.geojson\"\n",
    "aoi, building_output = \"../data/aoi/accra_sample_aoi.geojson\", \"../data/02_clipped/accra/accra_sample_buildings.geojson\"\n",
    "\n",
    "\n",
    "logger.info(\"🚀 Starting Earth Engine building download...\")\n",
    "logger.info(f\"📍 Input area: {aoi}\")\n",
    "logger.info(f\"💾 Output file: {building_output}\")\n",
    "logger.info(f\"🎯 Confidence threshold: {confidence_threshold}\")"
   ]
  },
  {
   "cell_type": "code",
   "execution_count": null,
   "id": "b67ee052",
   "metadata": {},
   "outputs": [
    {
     "name": "stderr",
     "output_type": "stream",
     "text": [
      "2025-09-27 09:37:30,910 - INFO - 📋 Loading area of interest...\n",
      "2025-09-27 09:37:30,913 - INFO - Dissolving 2 AOI features into single geometry\n",
      "2025-09-27 09:37:31,068 - INFO - AOI geometry loaded successfully, area: 31,410,187 square meters\n",
      "2025-09-27 09:37:31,069 - INFO - 🔍 Querying buildings with confidence >= 0.75...\n",
      "2025-09-27 09:37:31,069 - INFO - 💾 Exporting to geojson format...\n",
      "2025-09-27 09:37:31,070 - INFO - Counting features in collection...\n",
      "2025-09-27 09:37:37,010 - INFO - Collection contains 28,117 features\n",
      "2025-09-27 09:37:37,012 - INFO - Large dataset detected (28,117 features). Using grid-based export...\n",
      "2025-09-27 09:37:37,012 - INFO - Starting grid-based export processing...\n",
      "2025-09-27 09:37:44,614 - INFO - Created 15 grid cells for processing\n",
      "2025-09-27 09:38:03,022 - INFO - Progress: 10/15 cells (66.7%)\n",
      "2025-09-27 09:38:09,367 - INFO - Collected 28,385 features from 15 grid cells\n",
      "2025-09-27 09:38:09,367 - INFO - Saving 28,385 features to geojson format...\n",
      "2025-09-27 09:38:10,191 - INFO - Successfully exported 28,117 buildings to ../data/02_clipped/accra/accra_sample_buildings.geojson\n",
      "2025-09-27 09:38:10,191 - ERROR - ❌ Unexpected error: 'str' object has no attribute 'stat'\n"
     ]
    },
    {
     "name": "stdout",
     "output_type": "stream",
     "text": [
      "{'status': 'error', 'error_type': 'GeneralError', 'message': \"'str' object has no attribute 'stat'\", 'help': 'Check file paths and ensure all dependencies are installed'}\n"
     ]
    }
   ],
   "source": [
    "\n",
    "\"\"\"\n",
    "This block loads the buildings within the area of interest (AOI). \n",
    "The majority of the work is done in the export function, which can take a little over an hour for a city the size of Accra.\n",
    "\"\"\"\n",
    "\n",
    "\n",
    "\"\"\"The try-except block captures and logs errors during authentication, querying, and exporting.\n",
    "try-except blocks are OPTIONAL but you'll need to fix indentation if you remove them.\"\"\"\n",
    "try:\n",
    "    logger.info(\"📋 Loading area of interest...\")\n",
    "    aoi_geometry = buildings_api.load_aoi_geometry(Path(aoi))\n",
    "    \n",
    "\n",
    "    # Start: Filter buildings by confidence and area\n",
    "    logger.info(f\"🔍 Querying buildings with confidence >= {confidence_threshold}...\")\n",
    "    buildings = (buildings_api.collection\n",
    "                .filterBounds(aoi_geometry)\n",
    "                .filter(f'confidence >= {confidence_threshold}'))\n",
    "    \n",
    "    buildings = buildings.filter('area_in_meters >= 5')      # Min 10 sqm\n",
    "    buildings = buildings.filter('area_in_meters <= 100000')  # Max 100k sqm\n",
    "    \n",
    "    \n",
    "    # Step 5: Export with current API including grid processing\n",
    "    logger.info(f\"💾 Exporting to {format_type} format...\")\n",
    "    \n",
    "    buildings_api.export_to_format(\n",
    "        collection=buildings,\n",
    "        output_path=Path(building_output),\n",
    "        format_type=format_type,\n",
    "        include_properties=['confidence', 'area_in_meters', 'plus_code'],\n",
    "        max_features=max_features,\n",
    "    )\n",
    "    \n",
    "    # Step 6: Verify output and create summary\n",
    "    output_file = Path(building_output)\n",
    "    if output_file.exists():\n",
    "        file_size_mb = building_output.stat().st_size / (1024 * 1024)\n",
    "        logger.info(f\"✅ Export completed! File size: {file_size_mb:.2f} MB\")\n",
    "    else:\n",
    "        logger.warning(\"⚠️ Output file not found - export may have failed\")\n",
    "    \n",
    "    # Create result summary\n",
    "    result_summary = {\n",
    "        \"status\": \"success\",\n",
    "        \"input_area\": aoi,\n",
    "        \"output_file\": building_output,\n",
    "        \"output_format\": format_type,\n",
    "        \"confidence_threshold\": confidence_threshold,\n",
    "        \"project_id\": authenticated_project_id,\n",
    "        \"file_size_mb\": round(file_size_mb, 2) if output_file.exists() else None\n",
    "    }\n",
    "    \n",
    "    logger.info(\"🎉 Building download completed successfully!\")\n",
    "    \n",
    "\n",
    "except EarthEngineError as e:\n",
    "    logger.error(f\"❌ Earth Engine error: {e}\")\n",
    "    result_summary = {\n",
    "        \"status\": \"error\", \n",
    "        \"error_type\": \"EarthEngineError\", \n",
    "        \"message\": str(e),\n",
    "        \"help\": \"Try reducing the area size or increasing confidence threshold\"\n",
    "    }\n",
    "except Exception as e:\n",
    "    logger.error(f\"❌ Unexpected error: {e}\")\n",
    "    result_summary = {\n",
    "        \"status\": \"error\", \n",
    "        \"error_type\": \"GeneralError\", \n",
    "        \"message\": str(e),\n",
    "        \"help\": \"Check file paths and ensure all dependencies are installed\"\n",
    "    }\n",
    "\n",
    "print(result_summary)"
   ]
  },
  {
   "cell_type": "code",
   "execution_count": null,
   "id": "c1d16de9",
   "metadata": {},
   "outputs": [],
   "source": []
  }
 ],
 "metadata": {
  "kernelspec": {
   "display_name": "geoworkflow",
   "language": "python",
   "name": "python3"
  },
  "language_info": {
   "codemirror_mode": {
    "name": "ipython",
    "version": 3
   },
   "file_extension": ".py",
   "mimetype": "text/x-python",
   "name": "python",
   "nbconvert_exporter": "python",
   "pygments_lexer": "ipython3",
   "version": "3.10.18"
  }
 },
 "nbformat": 4,
 "nbformat_minor": 5
}
