{
 "cells": [
  {
   "cell_type": "code",
   "execution_count": 1,
   "id": "f6f00321",
   "metadata": {},
   "outputs": [
    {
     "name": "stdout",
     "output_type": "stream",
     "text": [
      "✅ Imports successful!\n"
     ]
    }
   ],
   "source": [
    "from geoworkflow.processors.extraction.open_buildings import OpenBuildingsExtractionProcessor\n",
    "from geoworkflow.schemas.config_models import OpenBuildingsExtractionConfig\n",
    "print(\"✅ Imports successful!\")"
   ]
  },
  {
   "cell_type": "code",
   "execution_count": 7,
   "id": "c4b0b0ac",
   "metadata": {},
   "outputs": [
    {
     "name": "stdout",
     "output_type": "stream",
     "text": [
      "✅ geoworkflow.core imports\n",
      "✅ geoworkflow.core.config imports\n",
      "❌ load_config/WorkflowConfig failed: cannot import name 'load_config' from 'geoworkflow.core.config' (/Users/juancheeto/Library/CloudStorage/Box-Box/UrbanStructureStudies/AfricaProject/geoworkflow/src/geoworkflow/core/config.py)\n"
     ]
    }
   ],
   "source": [
    "# Test individual imports\n",
    "try:\n",
    "    import geoworkflow.core\n",
    "    print(\"✅ geoworkflow.core imports\")\n",
    "except ImportError as e:\n",
    "    print(f\"❌ geoworkflow.core failed: {e}\")\n",
    "\n",
    "try:\n",
    "    import geoworkflow.core.config\n",
    "    print(\"✅ geoworkflow.core.config imports\")\n",
    "except ImportError as e:\n",
    "    print(f\"❌ geoworkflow.core.config failed: {e}\")\n",
    "\n",
    "try:\n",
    "    from geoworkflow.core.config import load_config, WorkflowConfig\n",
    "    print(\"✅ load_config and WorkflowConfig import\")\n",
    "except ImportError as e:\n",
    "    print(f\"❌ load_config/WorkflowConfig failed: {e}\")"
   ]
  },
  {
   "cell_type": "code",
   "execution_count": null,
   "id": "13eab445",
   "metadata": {},
   "outputs": [],
   "source": []
  }
 ],
 "metadata": {
  "kernelspec": {
   "display_name": "geoworkflow",
   "language": "python",
   "name": "python3"
  },
  "language_info": {
   "codemirror_mode": {
    "name": "ipython",
    "version": 3
   },
   "file_extension": ".py",
   "mimetype": "text/x-python",
   "name": "python",
   "nbconvert_exporter": "python",
   "pygments_lexer": "ipython3",
   "version": "3.10.18"
  }
 },
 "nbformat": 4,
 "nbformat_minor": 5
}
