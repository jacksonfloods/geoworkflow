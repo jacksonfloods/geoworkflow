{
 "cells": [
  {
   "cell_type": "markdown",
   "id": "cc284098",
   "metadata": {},
   "source": [
    "# Open Buildings Extraction via GCS (Fast Method)\n",
    "\n",
    "This notebook demonstrates the **GCS-based extraction method** - significantly faster than Earth Engine.\n",
    "\n",
    "```\n",
    "┌─────────────────────────────────────┐\n",
    "│  Create AOI (Area of Interest)      │\n",
    "│  - Load AFRICAPOLIS2020.geojson     │\n",
    "│  - Filter for Accra agglomeration   │\n",
    "│  - Output: accra_aoi.geojson        │\n",
    "└─────────────┬───────────────────────┘\n",
    "              │\n",
    "              ▼\n",
    "┌─────────────────────────────────────┐\n",
    "│  Configure GCS Extraction           │\n",
    "│  - Set confidence threshold (0.75)  │\n",
    "│  - Set area filters (10-1000 m²)    │\n",
    "│  - Set parallel workers (4)         │\n",
    "│  - Choose output format (GeoJSON)   │\n",
    "└─────────────┬───────────────────────┘\n",
    "              │\n",
    "              ▼\n",
    "┌─────────────────────────────────────┐\n",
    "│  Extract Buildings from GCS         │\n",
    "│  - NO authentication required!      │\n",
    "│  - Direct download from GCS         │\n",
    "│  - Parallel S2 cell processing      │\n",
    "│  - Filter by confidence & area      │\n",
    "│  - Apply spatial intersection       │\n",
    "│  - Export: accra_buildings.geojson  │\n",
    "└─────────────────────────────────────┘\n",
    "```\n",
    "\n",
    "## Key Advantages over Earth Engine Method\n",
    "\n",
    "**Speed:**\n",
    "- Small area (10 km²): 30-60 seconds vs 2-5 minutes\n",
    "- Medium city (100 km²): 2-5 minutes vs 10-30 minutes\n",
    "- Large city (1000 km²): 10-20 minutes vs 1-2 hours\n",
    "\n",
    "**Simplicity:**\n",
    "- No authentication needed (public data)\n",
    "- No API quotas or timeouts\n",
    "- Windows-compatible\n",
    "\n",
    "**Input Data:**\n",
    "- `AFRICAPOLIS2020.geojson` → AOI creation\n",
    "- No service account needed!\n",
    "\n",
    "**Output:**\n",
    "- `accra_aoi.geojson` (area boundary)\n",
    "- `accra_buildings.geojson` (building polygons)"
   ]
  },
  {
   "cell_type": "code",
   "execution_count": 1,
   "id": "d790db8b",
   "metadata": {},
   "outputs": [],
   "source": [
    "from pathlib import Path\n",
    "import logging\n",
    "\n",
    "# GeoWorkflow imports\n",
    "from geoworkflow.schemas.config_models import AOIConfig\n",
    "from geoworkflow.processors.aoi.processor import AOIProcessor\n",
    "from geoworkflow.schemas.open_buildings_gcs_config import OpenBuildingsGCSConfig\n",
    "from geoworkflow.processors.extraction.open_buildings_gcs import OpenBuildingsGCSProcessor"
   ]
  },
  {
   "cell_type": "markdown",
   "id": "setup_logging",
   "metadata": {},
   "source": [
    "## Optional: Setup Logging\n",
    "\n",
    "Create a status logging tracker to monitor progress. This is **OPTIONAL** - you can skip this cell and remove logging statements below if preferred."
   ]
  },
  {
   "cell_type": "code",
   "execution_count": 2,
   "id": "4f39a4a7",
   "metadata": {},
   "outputs": [],
   "source": [
    "# Setup logging (OPTIONAL)\n",
    "logging.basicConfig(\n",
    "    level=logging.INFO,\n",
    "    format='%(asctime)s - %(levelname)s - %(message)s'\n",
    ")\n",
    "logger = logging.getLogger(__name__)"
   ]
  },
  {
   "cell_type": "markdown",
   "id": "create_aoi",
   "metadata": {},
   "source": [
    "## Step 1: Create Area of Interest (AOI)\n",
    "\n",
    "Extract the Accra boundary from AFRICAPOLIS data. This is the same as the Earth Engine workflow."
   ]
  },
  {
   "cell_type": "code",
   "execution_count": null,
   "id": "ee410e3a",
   "metadata": {},
   "outputs": [
    {
     "name": "stderr",
     "output_type": "stream",
     "text": [
      "2025-10-23 20:17:19,751 - INFO - Starting AOIProcessor processing\n"
     ]
    },
    {
     "data": {
      "application/vnd.jupyter.widget-view+json": {
       "model_id": "c4461b4111a24f44b5de1611229e96e5",
       "version_major": 2,
       "version_minor": 0
      },
      "text/plain": [
       "Output()"
      ]
     },
     "metadata": {},
     "output_type": "display_data"
    },
    {
     "name": "stderr",
     "output_type": "stream",
     "text": [
      "2025-10-23 20:17:20,747 - INFO - Loading administrative boundaries\n"
     ]
    },
    {
     "name": "stderr",
     "output_type": "stream",
     "text": [
      "2025-10-23 20:17:21,617 - INFO - Filtering 1 countries\n",
      "2025-10-23 20:17:21,619 - INFO - Saving AOI to ../data/aoi/accra_aoi.geojson\n"
     ]
    },
    {
     "name": "stderr",
     "output_type": "stream",
     "text": [
      "2025-10-23 20:17:21,806 - INFO - Created 1 records\n"
     ]
    },
    {
     "data": {
      "text/html": [
       "<pre style=\"white-space:pre;overflow-x:auto;line-height:normal;font-family:Menlo,'DejaVu Sans Mono',consolas,'Courier New',monospace\"></pre>\n"
      ],
      "text/plain": []
     },
     "metadata": {},
     "output_type": "display_data"
    },
    {
     "name": "stderr",
     "output_type": "stream",
     "text": [
      "2025-10-23 20:17:21,925 - INFO - AOI saved successfully completed: 4/3 items in 1.2s (3.4 items/sec)\n",
      "2025-10-23 20:17:21,926 - INFO - Successfully completed AOIProcessor processing\n"
     ]
    },
    {
     "name": "stdout",
     "output_type": "stream",
     "text": [
      "✅ Successfully created AOI with 1 features\n",
      "Processing time: 2.18s\n",
      "Output: ../data/aoi/accra_aoi.geojson\n"
     ]
    }
   ],
   "source": [
    "# Define AOI output path\n",
    "aoi_file = Path(\"../data/aoi/accra_aoi.geojson\")\n",
    "#aoi_file = Path(\"../data/aoi/accra_sample_aoi.geojson\")\n",
    "\n",
    "# Create AOI configuration for Accra\n",
    "aoi_config = AOIConfig(\n",
    "    input_file=Path(\"../data/00_source/boundaries/agglomerations.gpkg\"),\n",
    "    country_name_column=\"Agglomeration_Name\",\n",
    "    countries=[\"Accra\"],\n",
    "    buffer_km=0,\n",
    "    dissolve_boundaries=False,\n",
    "    output_file=aoi_file\n",
    ")\n",
    "\n",
    "# Create and run the processor\n",
    "aoi_processor = AOIProcessor(aoi_config)\n",
    "aoi_result = aoi_processor.process()\n",
    "\n",
    "# Check results\n",
    "if aoi_result.success:\n",
    "    print(f\"✅ {aoi_result.message}\")\n",
    "    print(f\"Processing time: {aoi_result.elapsed_time:.2f}s\")\n",
    "    print(f\"Output: {aoi_file}\")\n",
    "else:\n",
    "    print(f\"❌ Failed: {aoi_result.message}\")"
   ]
  },
  {
   "cell_type": "code",
   "execution_count": null,
   "id": "4c39d26a",
   "metadata": {},
   "outputs": [
    {
     "name": "stdout",
     "output_type": "stream",
     "text": [
      "AOI CRS: PROJCS[\"Africa_Equidistant_Conic\",GEOGCS[\"WGS 84\",DATUM[\"WGS_1984\",SPHEROID[\"WGS 84\",6378137,298.257223563,AUTHORITY[\"EPSG\",\"7030\"]],AUTHORITY[\"EPSG\",\"6326\"]],PRIMEM[\"Greenwich\",0],UNIT[\"Degree\",0.0174532925199433]],PROJECTION[\"Equidistant_Conic\"],PARAMETER[\"latitude_of_center\",0],PARAMETER[\"longitude_of_center\",25],PARAMETER[\"standard_parallel_1\",20],PARAMETER[\"standard_parallel_2\",-23],PARAMETER[\"false_easting\",0],PARAMETER[\"false_northing\",0],UNIT[\"metre\",1,AUTHORITY[\"EPSG\",\"9001\"]],AXIS[\"Easting\",EAST],AXIS[\"Northing\",NORTH],AUTHORITY[\"ESRI\",\"102023\"]]\n",
      "AOI bounds: [-2658215.83450204   587278.34351349 -2580000.97254483   653908.83864846]\n",
      "AOI geometry type: Polygon\n"
     ]
    },
    {
     "ename": "DataSourceError",
     "evalue": "Failed to read GeoJSON data; At line 7561, character 60716860: GeoJSON object too complex/large. You may define the OGR_GEOJSON_MAX_OBJ_SIZE configuration option to a value in megabytes to allow for larger features, or 0 to remove any size limit.",
     "output_type": "error",
     "traceback": [
      "\u001b[0;31m---------------------------------------------------------------------------\u001b[0m",
      "\u001b[0;31mDataSourceError\u001b[0m                           Traceback (most recent call last)",
      "Cell \u001b[0;32mIn[9], line 10\u001b[0m\n\u001b[1;32m      7\u001b[0m \u001b[38;5;28mprint\u001b[39m(\u001b[38;5;124mf\u001b[39m\u001b[38;5;124m\"\u001b[39m\u001b[38;5;124mAOI geometry type: \u001b[39m\u001b[38;5;132;01m{\u001b[39;00maoi_gdf\u001b[38;5;241m.\u001b[39mgeometry\u001b[38;5;241m.\u001b[39miloc[\u001b[38;5;241m0\u001b[39m]\u001b[38;5;241m.\u001b[39mgeom_type\u001b[38;5;132;01m}\u001b[39;00m\u001b[38;5;124m\"\u001b[39m)\n\u001b[1;32m      9\u001b[0m \u001b[38;5;66;03m# For comparison, check original Africapolis\u001b[39;00m\n\u001b[0;32m---> 10\u001b[0m africapolis \u001b[38;5;241m=\u001b[39m \u001b[43mgpd\u001b[49m\u001b[38;5;241;43m.\u001b[39;49m\u001b[43mread_file\u001b[49m\u001b[43m(\u001b[49m\u001b[38;5;124;43m\"\u001b[39;49m\u001b[38;5;124;43m../data/00_source/boundaries/agglomorations.geojson\u001b[39;49m\u001b[38;5;124;43m\"\u001b[39;49m\u001b[43m)\u001b[49m\n\u001b[1;32m     11\u001b[0m \u001b[38;5;28mprint\u001b[39m(\u001b[38;5;124mf\u001b[39m\u001b[38;5;124m\"\u001b[39m\u001b[38;5;130;01m\\n\u001b[39;00m\u001b[38;5;124mAfricapolis CRS: \u001b[39m\u001b[38;5;132;01m{\u001b[39;00mafricapolis\u001b[38;5;241m.\u001b[39mcrs\u001b[38;5;132;01m}\u001b[39;00m\u001b[38;5;124m\"\u001b[39m)\n\u001b[1;32m     12\u001b[0m accra_orig \u001b[38;5;241m=\u001b[39m africapolis[africapolis[\u001b[38;5;124m'\u001b[39m\u001b[38;5;124mAgglomeration_Name\u001b[39m\u001b[38;5;124m'\u001b[39m] \u001b[38;5;241m==\u001b[39m \u001b[38;5;124m'\u001b[39m\u001b[38;5;124mAccra\u001b[39m\u001b[38;5;124m'\u001b[39m]\n",
      "File \u001b[0;32m~/miniconda3/envs/geoworkflow/lib/python3.10/site-packages/geopandas/io/file.py:316\u001b[0m, in \u001b[0;36m_read_file\u001b[0;34m(filename, bbox, mask, columns, rows, engine, **kwargs)\u001b[0m\n\u001b[1;32m    313\u001b[0m             filename \u001b[38;5;241m=\u001b[39m response\u001b[38;5;241m.\u001b[39mread()\n\u001b[1;32m    315\u001b[0m \u001b[38;5;28;01mif\u001b[39;00m engine \u001b[38;5;241m==\u001b[39m \u001b[38;5;124m\"\u001b[39m\u001b[38;5;124mpyogrio\u001b[39m\u001b[38;5;124m\"\u001b[39m:\n\u001b[0;32m--> 316\u001b[0m     \u001b[38;5;28;01mreturn\u001b[39;00m \u001b[43m_read_file_pyogrio\u001b[49m\u001b[43m(\u001b[49m\n\u001b[1;32m    317\u001b[0m \u001b[43m        \u001b[49m\u001b[43mfilename\u001b[49m\u001b[43m,\u001b[49m\u001b[43m \u001b[49m\u001b[43mbbox\u001b[49m\u001b[38;5;241;43m=\u001b[39;49m\u001b[43mbbox\u001b[49m\u001b[43m,\u001b[49m\u001b[43m \u001b[49m\u001b[43mmask\u001b[49m\u001b[38;5;241;43m=\u001b[39;49m\u001b[43mmask\u001b[49m\u001b[43m,\u001b[49m\u001b[43m \u001b[49m\u001b[43mcolumns\u001b[49m\u001b[38;5;241;43m=\u001b[39;49m\u001b[43mcolumns\u001b[49m\u001b[43m,\u001b[49m\u001b[43m \u001b[49m\u001b[43mrows\u001b[49m\u001b[38;5;241;43m=\u001b[39;49m\u001b[43mrows\u001b[49m\u001b[43m,\u001b[49m\u001b[43m \u001b[49m\u001b[38;5;241;43m*\u001b[39;49m\u001b[38;5;241;43m*\u001b[39;49m\u001b[43mkwargs\u001b[49m\n\u001b[1;32m    318\u001b[0m \u001b[43m    \u001b[49m\u001b[43m)\u001b[49m\n\u001b[1;32m    320\u001b[0m \u001b[38;5;28;01melif\u001b[39;00m engine \u001b[38;5;241m==\u001b[39m \u001b[38;5;124m\"\u001b[39m\u001b[38;5;124mfiona\u001b[39m\u001b[38;5;124m\"\u001b[39m:\n\u001b[1;32m    321\u001b[0m     \u001b[38;5;28;01mif\u001b[39;00m pd\u001b[38;5;241m.\u001b[39mapi\u001b[38;5;241m.\u001b[39mtypes\u001b[38;5;241m.\u001b[39mis_file_like(filename):\n",
      "File \u001b[0;32m~/miniconda3/envs/geoworkflow/lib/python3.10/site-packages/geopandas/io/file.py:576\u001b[0m, in \u001b[0;36m_read_file_pyogrio\u001b[0;34m(path_or_bytes, bbox, mask, rows, **kwargs)\u001b[0m\n\u001b[1;32m    567\u001b[0m     warnings\u001b[38;5;241m.\u001b[39mwarn(\n\u001b[1;32m    568\u001b[0m         \u001b[38;5;124m\"\u001b[39m\u001b[38;5;124mThe \u001b[39m\u001b[38;5;124m'\u001b[39m\u001b[38;5;124minclude_fields\u001b[39m\u001b[38;5;124m'\u001b[39m\u001b[38;5;124m and \u001b[39m\u001b[38;5;124m'\u001b[39m\u001b[38;5;124mignore_fields\u001b[39m\u001b[38;5;124m'\u001b[39m\u001b[38;5;124m keywords are deprecated, and \u001b[39m\u001b[38;5;124m\"\u001b[39m\n\u001b[1;32m    569\u001b[0m         \u001b[38;5;124m\"\u001b[39m\u001b[38;5;124mwill be removed in a future release. You can use the \u001b[39m\u001b[38;5;124m'\u001b[39m\u001b[38;5;124mcolumns\u001b[39m\u001b[38;5;124m'\u001b[39m\u001b[38;5;124m keyword \u001b[39m\u001b[38;5;124m\"\u001b[39m\n\u001b[0;32m   (...)\u001b[0m\n\u001b[1;32m    572\u001b[0m         stacklevel\u001b[38;5;241m=\u001b[39m\u001b[38;5;241m3\u001b[39m,\n\u001b[1;32m    573\u001b[0m     )\n\u001b[1;32m    574\u001b[0m     kwargs[\u001b[38;5;124m\"\u001b[39m\u001b[38;5;124mcolumns\u001b[39m\u001b[38;5;124m\"\u001b[39m] \u001b[38;5;241m=\u001b[39m kwargs\u001b[38;5;241m.\u001b[39mpop(\u001b[38;5;124m\"\u001b[39m\u001b[38;5;124minclude_fields\u001b[39m\u001b[38;5;124m\"\u001b[39m)\n\u001b[0;32m--> 576\u001b[0m \u001b[38;5;28;01mreturn\u001b[39;00m \u001b[43mpyogrio\u001b[49m\u001b[38;5;241;43m.\u001b[39;49m\u001b[43mread_dataframe\u001b[49m\u001b[43m(\u001b[49m\u001b[43mpath_or_bytes\u001b[49m\u001b[43m,\u001b[49m\u001b[43m \u001b[49m\u001b[43mbbox\u001b[49m\u001b[38;5;241;43m=\u001b[39;49m\u001b[43mbbox\u001b[49m\u001b[43m,\u001b[49m\u001b[43m \u001b[49m\u001b[38;5;241;43m*\u001b[39;49m\u001b[38;5;241;43m*\u001b[39;49m\u001b[43mkwargs\u001b[49m\u001b[43m)\u001b[49m\n",
      "File \u001b[0;32m~/miniconda3/envs/geoworkflow/lib/python3.10/site-packages/pyogrio/geopandas.py:275\u001b[0m, in \u001b[0;36mread_dataframe\u001b[0;34m(path_or_buffer, layer, encoding, columns, read_geometry, force_2d, skip_features, max_features, where, bbox, mask, fids, sql, sql_dialect, fid_as_index, use_arrow, on_invalid, arrow_to_pandas_kwargs, **kwargs)\u001b[0m\n\u001b[1;32m    270\u001b[0m \u001b[38;5;28;01mif\u001b[39;00m \u001b[38;5;129;01mnot\u001b[39;00m use_arrow:\n\u001b[1;32m    271\u001b[0m     \u001b[38;5;66;03m# For arrow, datetimes are read as is.\u001b[39;00m\n\u001b[1;32m    272\u001b[0m     \u001b[38;5;66;03m# For numpy IO, datetimes are read as string values to preserve timezone info\u001b[39;00m\n\u001b[1;32m    273\u001b[0m     \u001b[38;5;66;03m# as numpy does not directly support timezones.\u001b[39;00m\n\u001b[1;32m    274\u001b[0m     kwargs[\u001b[38;5;124m\"\u001b[39m\u001b[38;5;124mdatetime_as_string\u001b[39m\u001b[38;5;124m\"\u001b[39m] \u001b[38;5;241m=\u001b[39m \u001b[38;5;28;01mTrue\u001b[39;00m\n\u001b[0;32m--> 275\u001b[0m result \u001b[38;5;241m=\u001b[39m \u001b[43mread_func\u001b[49m\u001b[43m(\u001b[49m\n\u001b[1;32m    276\u001b[0m \u001b[43m    \u001b[49m\u001b[43mpath_or_buffer\u001b[49m\u001b[43m,\u001b[49m\n\u001b[1;32m    277\u001b[0m \u001b[43m    \u001b[49m\u001b[43mlayer\u001b[49m\u001b[38;5;241;43m=\u001b[39;49m\u001b[43mlayer\u001b[49m\u001b[43m,\u001b[49m\n\u001b[1;32m    278\u001b[0m \u001b[43m    \u001b[49m\u001b[43mencoding\u001b[49m\u001b[38;5;241;43m=\u001b[39;49m\u001b[43mencoding\u001b[49m\u001b[43m,\u001b[49m\n\u001b[1;32m    279\u001b[0m \u001b[43m    \u001b[49m\u001b[43mcolumns\u001b[49m\u001b[38;5;241;43m=\u001b[39;49m\u001b[43mcolumns\u001b[49m\u001b[43m,\u001b[49m\n\u001b[1;32m    280\u001b[0m \u001b[43m    \u001b[49m\u001b[43mread_geometry\u001b[49m\u001b[38;5;241;43m=\u001b[39;49m\u001b[43mread_geometry\u001b[49m\u001b[43m,\u001b[49m\n\u001b[1;32m    281\u001b[0m \u001b[43m    \u001b[49m\u001b[43mforce_2d\u001b[49m\u001b[38;5;241;43m=\u001b[39;49m\u001b[43mgdal_force_2d\u001b[49m\u001b[43m,\u001b[49m\n\u001b[1;32m    282\u001b[0m \u001b[43m    \u001b[49m\u001b[43mskip_features\u001b[49m\u001b[38;5;241;43m=\u001b[39;49m\u001b[43mskip_features\u001b[49m\u001b[43m,\u001b[49m\n\u001b[1;32m    283\u001b[0m \u001b[43m    \u001b[49m\u001b[43mmax_features\u001b[49m\u001b[38;5;241;43m=\u001b[39;49m\u001b[43mmax_features\u001b[49m\u001b[43m,\u001b[49m\n\u001b[1;32m    284\u001b[0m \u001b[43m    \u001b[49m\u001b[43mwhere\u001b[49m\u001b[38;5;241;43m=\u001b[39;49m\u001b[43mwhere\u001b[49m\u001b[43m,\u001b[49m\n\u001b[1;32m    285\u001b[0m \u001b[43m    \u001b[49m\u001b[43mbbox\u001b[49m\u001b[38;5;241;43m=\u001b[39;49m\u001b[43mbbox\u001b[49m\u001b[43m,\u001b[49m\n\u001b[1;32m    286\u001b[0m \u001b[43m    \u001b[49m\u001b[43mmask\u001b[49m\u001b[38;5;241;43m=\u001b[39;49m\u001b[43mmask\u001b[49m\u001b[43m,\u001b[49m\n\u001b[1;32m    287\u001b[0m \u001b[43m    \u001b[49m\u001b[43mfids\u001b[49m\u001b[38;5;241;43m=\u001b[39;49m\u001b[43mfids\u001b[49m\u001b[43m,\u001b[49m\n\u001b[1;32m    288\u001b[0m \u001b[43m    \u001b[49m\u001b[43msql\u001b[49m\u001b[38;5;241;43m=\u001b[39;49m\u001b[43msql\u001b[49m\u001b[43m,\u001b[49m\n\u001b[1;32m    289\u001b[0m \u001b[43m    \u001b[49m\u001b[43msql_dialect\u001b[49m\u001b[38;5;241;43m=\u001b[39;49m\u001b[43msql_dialect\u001b[49m\u001b[43m,\u001b[49m\n\u001b[1;32m    290\u001b[0m \u001b[43m    \u001b[49m\u001b[43mreturn_fids\u001b[49m\u001b[38;5;241;43m=\u001b[39;49m\u001b[43mfid_as_index\u001b[49m\u001b[43m,\u001b[49m\n\u001b[1;32m    291\u001b[0m \u001b[43m    \u001b[49m\u001b[38;5;241;43m*\u001b[39;49m\u001b[38;5;241;43m*\u001b[39;49m\u001b[43mkwargs\u001b[49m\u001b[43m,\u001b[49m\n\u001b[1;32m    292\u001b[0m \u001b[43m\u001b[49m\u001b[43m)\u001b[49m\n\u001b[1;32m    294\u001b[0m \u001b[38;5;28;01mif\u001b[39;00m use_arrow:\n\u001b[1;32m    295\u001b[0m     \u001b[38;5;28;01mimport\u001b[39;00m\u001b[38;5;250m \u001b[39m\u001b[38;5;21;01mpyarrow\u001b[39;00m\u001b[38;5;250m \u001b[39m\u001b[38;5;28;01mas\u001b[39;00m\u001b[38;5;250m \u001b[39m\u001b[38;5;21;01mpa\u001b[39;00m\n",
      "File \u001b[0;32m~/miniconda3/envs/geoworkflow/lib/python3.10/site-packages/pyogrio/raw.py:198\u001b[0m, in \u001b[0;36mread\u001b[0;34m(path_or_buffer, layer, encoding, columns, read_geometry, force_2d, skip_features, max_features, where, bbox, mask, fids, sql, sql_dialect, return_fids, datetime_as_string, **kwargs)\u001b[0m\n\u001b[1;32m     59\u001b[0m \u001b[38;5;250m\u001b[39m\u001b[38;5;124;03m\"\"\"Read OGR data source into numpy arrays.\u001b[39;00m\n\u001b[1;32m     60\u001b[0m \n\u001b[1;32m     61\u001b[0m \u001b[38;5;124;03mIMPORTANT: non-linear geometry types (e.g., MultiSurface) are converted\u001b[39;00m\n\u001b[0;32m   (...)\u001b[0m\n\u001b[1;32m    194\u001b[0m \n\u001b[1;32m    195\u001b[0m \u001b[38;5;124;03m\"\"\"\u001b[39;00m\n\u001b[1;32m    196\u001b[0m dataset_kwargs \u001b[38;5;241m=\u001b[39m _preprocess_options_key_value(kwargs) \u001b[38;5;28;01mif\u001b[39;00m kwargs \u001b[38;5;28;01melse\u001b[39;00m {}\n\u001b[0;32m--> 198\u001b[0m \u001b[38;5;28;01mreturn\u001b[39;00m \u001b[43mogr_read\u001b[49m\u001b[43m(\u001b[49m\n\u001b[1;32m    199\u001b[0m \u001b[43m    \u001b[49m\u001b[43mget_vsi_path_or_buffer\u001b[49m\u001b[43m(\u001b[49m\u001b[43mpath_or_buffer\u001b[49m\u001b[43m)\u001b[49m\u001b[43m,\u001b[49m\n\u001b[1;32m    200\u001b[0m \u001b[43m    \u001b[49m\u001b[43mlayer\u001b[49m\u001b[38;5;241;43m=\u001b[39;49m\u001b[43mlayer\u001b[49m\u001b[43m,\u001b[49m\n\u001b[1;32m    201\u001b[0m \u001b[43m    \u001b[49m\u001b[43mencoding\u001b[49m\u001b[38;5;241;43m=\u001b[39;49m\u001b[43mencoding\u001b[49m\u001b[43m,\u001b[49m\n\u001b[1;32m    202\u001b[0m \u001b[43m    \u001b[49m\u001b[43mcolumns\u001b[49m\u001b[38;5;241;43m=\u001b[39;49m\u001b[43mcolumns\u001b[49m\u001b[43m,\u001b[49m\n\u001b[1;32m    203\u001b[0m \u001b[43m    \u001b[49m\u001b[43mread_geometry\u001b[49m\u001b[38;5;241;43m=\u001b[39;49m\u001b[43mread_geometry\u001b[49m\u001b[43m,\u001b[49m\n\u001b[1;32m    204\u001b[0m \u001b[43m    \u001b[49m\u001b[43mforce_2d\u001b[49m\u001b[38;5;241;43m=\u001b[39;49m\u001b[43mforce_2d\u001b[49m\u001b[43m,\u001b[49m\n\u001b[1;32m    205\u001b[0m \u001b[43m    \u001b[49m\u001b[43mskip_features\u001b[49m\u001b[38;5;241;43m=\u001b[39;49m\u001b[43mskip_features\u001b[49m\u001b[43m,\u001b[49m\n\u001b[1;32m    206\u001b[0m \u001b[43m    \u001b[49m\u001b[43mmax_features\u001b[49m\u001b[38;5;241;43m=\u001b[39;49m\u001b[43mmax_features\u001b[49m\u001b[43m \u001b[49m\u001b[38;5;129;43;01mor\u001b[39;49;00m\u001b[43m \u001b[49m\u001b[38;5;241;43m0\u001b[39;49m\u001b[43m,\u001b[49m\n\u001b[1;32m    207\u001b[0m \u001b[43m    \u001b[49m\u001b[43mwhere\u001b[49m\u001b[38;5;241;43m=\u001b[39;49m\u001b[43mwhere\u001b[49m\u001b[43m,\u001b[49m\n\u001b[1;32m    208\u001b[0m \u001b[43m    \u001b[49m\u001b[43mbbox\u001b[49m\u001b[38;5;241;43m=\u001b[39;49m\u001b[43mbbox\u001b[49m\u001b[43m,\u001b[49m\n\u001b[1;32m    209\u001b[0m \u001b[43m    \u001b[49m\u001b[43mmask\u001b[49m\u001b[38;5;241;43m=\u001b[39;49m\u001b[43m_mask_to_wkb\u001b[49m\u001b[43m(\u001b[49m\u001b[43mmask\u001b[49m\u001b[43m)\u001b[49m\u001b[43m,\u001b[49m\n\u001b[1;32m    210\u001b[0m \u001b[43m    \u001b[49m\u001b[43mfids\u001b[49m\u001b[38;5;241;43m=\u001b[39;49m\u001b[43mfids\u001b[49m\u001b[43m,\u001b[49m\n\u001b[1;32m    211\u001b[0m \u001b[43m    \u001b[49m\u001b[43msql\u001b[49m\u001b[38;5;241;43m=\u001b[39;49m\u001b[43msql\u001b[49m\u001b[43m,\u001b[49m\n\u001b[1;32m    212\u001b[0m \u001b[43m    \u001b[49m\u001b[43msql_dialect\u001b[49m\u001b[38;5;241;43m=\u001b[39;49m\u001b[43msql_dialect\u001b[49m\u001b[43m,\u001b[49m\n\u001b[1;32m    213\u001b[0m \u001b[43m    \u001b[49m\u001b[43mreturn_fids\u001b[49m\u001b[38;5;241;43m=\u001b[39;49m\u001b[43mreturn_fids\u001b[49m\u001b[43m,\u001b[49m\n\u001b[1;32m    214\u001b[0m \u001b[43m    \u001b[49m\u001b[43mdataset_kwargs\u001b[49m\u001b[38;5;241;43m=\u001b[39;49m\u001b[43mdataset_kwargs\u001b[49m\u001b[43m,\u001b[49m\n\u001b[1;32m    215\u001b[0m \u001b[43m    \u001b[49m\u001b[43mdatetime_as_string\u001b[49m\u001b[38;5;241;43m=\u001b[39;49m\u001b[43mdatetime_as_string\u001b[49m\u001b[43m,\u001b[49m\n\u001b[1;32m    216\u001b[0m \u001b[43m\u001b[49m\u001b[43m)\u001b[49m\n",
      "File \u001b[0;32mpyogrio/_io.pyx:1293\u001b[0m, in \u001b[0;36mpyogrio._io.ogr_read\u001b[0;34m()\u001b[0m\n",
      "File \u001b[0;32mpyogrio/_io.pyx:232\u001b[0m, in \u001b[0;36mpyogrio._io.ogr_open\u001b[0;34m()\u001b[0m\n",
      "\u001b[0;31mDataSourceError\u001b[0m: Failed to read GeoJSON data; At line 7561, character 60716860: GeoJSON object too complex/large. You may define the OGR_GEOJSON_MAX_OBJ_SIZE configuration option to a value in megabytes to allow for larger features, or 0 to remove any size limit."
     ]
    }
   ],
   "source": [
    "import geopandas as gpd\n",
    "\n",
    "# Check AOI CRS\n",
    "aoi_gdf = gpd.read_file(\"../data/aoi/accra_aoi.geojson\")\n",
    "print(f\"AOI CRS: {aoi_gdf.crs}\")\n",
    "print(f\"AOI bounds: {aoi_gdf.total_bounds}\")\n",
    "print(f\"AOI geometry type: {aoi_gdf.geometry.iloc[0].geom_type}\")\n",
    "\n",
    "# For comparison, check original Africapolis\n",
    "africapolis = gpd.read_file(\"../data/00_source/boundaries/agglomorations.gpkg\")\n",
    "print(f\"\\nAfricapolis CRS: {africapolis.crs}\")\n",
    "accra_orig = africapolis[africapolis['Agglomeration_Name'] == 'Accra']\n",
    "print(f\"Accra bounds in original file: {accra_orig.total_bounds}\")"
   ]
  },
  {
   "cell_type": "markdown",
   "id": "extract_buildings",
   "metadata": {},
   "source": [
    "## Step 2: Extract Buildings via GCS\n",
    "\n",
    "This is where the magic happens! No authentication needed, just configure and run.\n",
    "\n",
    "**For testing:** Use the smaller sample AOI (faster, ~1-2 minutes)  \n",
    "**For production:** Use the full Accra AOI (complete data, ~5-10 minutes)"
   ]
  },
  {
   "cell_type": "code",
   "execution_count": 5,
   "id": "configure_extraction",
   "metadata": {},
   "outputs": [
    {
     "name": "stdout",
     "output_type": "stream",
     "text": [
      "📋 Configuration:\n",
      "  Input AOI: ../data/aoi/accra_aoi.geojson\n",
      "  Output: ../data/02_clipped/open_buildings.geojson\n",
      "  Confidence: ≥0.75\n",
      "  Area range: 8.0-100000.0 m²\n",
      "  Workers: 8\n"
     ]
    }
   ],
   "source": [
    "# Choose your AOI and output\n",
    "# Option 1: Small sample for testing (RECOMMENDED FOR FIRST RUN)\n",
    "input_aoi = Path(\"../data/aoi/accra_sample_aoi.geojson\")\n",
    "output_file = Path(\"../data/02_clipped/accra_buildings_sample.geojson\")\n",
    "\n",
    "# Option 2: Full Accra area (uncomment to use)\n",
    "input_aoi = Path(\"../data/aoi/accra_aoi.geojson\")\n",
    "output_file = Path(\"../data/02_clipped/all_accra_buildings.geojson\")\n",
    "\n",
    "# Configure extraction\n",
    "gcs_config = OpenBuildingsGCSConfig(\n",
    "    aoi_file=input_aoi,\n",
    "    output_dir=output_file.parent,\n",
    "    \n",
    "    # Quality filters\n",
    "    confidence_threshold=0.75,  # Min confidence (0.5-1.0)\n",
    "    min_area_m2=8.0,           # Min building size\n",
    "    max_area_m2=100000.0,       # Max building size\n",
    "    \n",
    "    # Output settings\n",
    "    export_format=\"geojson\",    # Options: geojson, shapefile, csv\n",
    "    overwrite_existing=True,     # Overwrite if exists\n",
    "    \n",
    "    # Performance\n",
    "    num_workers=8                # Parallel workers (adjust based on CPU)\n",
    ")\n",
    "\n",
    "# Update output file to match config\n",
    "output_file = gcs_config.get_output_file_path()\n",
    "\n",
    "print(\"📋 Configuration:\")\n",
    "print(f\"  Input AOI: {input_aoi}\")\n",
    "print(f\"  Output: {output_file}\")\n",
    "print(f\"  Confidence: ≥{gcs_config.confidence_threshold}\")\n",
    "print(f\"  Area range: {gcs_config.min_area_m2}-{gcs_config.max_area_m2} m²\")\n",
    "print(f\"  Workers: {gcs_config.num_workers}\")"
   ]
  },
  {
   "cell_type": "code",
   "execution_count": 6,
   "id": "8f15baf4",
   "metadata": {},
   "outputs": [
    {
     "name": "stdout",
     "output_type": "stream",
     "text": [
      "True\n",
      "{'aoi_file': '../data/aoi/accra_aoi.geojson', 'output_dir': '../data/02_clipped', 'data_type': 'polygons', 's2_level': 6, 'gcs_bucket_path': 'gs://open-buildings-data/v3/polygons_s2_level_6_gzip_no_header', 'confidence_threshold': 0.75, 'min_area_m2': 8.0, 'max_area_m2': 100000.0, 'export_format': 'geojson', 'include_confidence': True, 'include_area': True, 'include_plus_codes': True, 'overwrite_existing': True, 'num_workers': 8, 'chunk_size': 2000000, 'service_account_key': None, 'use_anonymous_access': True}\n"
     ]
    }
   ],
   "source": [
    "if isinstance(gcs_config, OpenBuildingsGCSConfig):\n",
    "    print(True)\n",
    "    config_dict = gcs_config.model_dump(mode='json')\n",
    "\n",
    "print(config_dict)"
   ]
  },
  {
   "cell_type": "markdown",
   "id": "run_extraction",
   "metadata": {},
   "source": [
    "## Step 3: Run the Extraction\n",
    "\n",
    "This cell does the actual extraction. Progress will be shown in real-time.\n",
    "\n",
    "**Expected time:**\n",
    "- Sample area: ~1-2 minutes\n",
    "- Full Accra: ~5-10 minutes"
   ]
  },
  {
   "cell_type": "code",
   "execution_count": 7,
   "id": "b67ee052",
   "metadata": {},
   "outputs": [
    {
     "name": "stderr",
     "output_type": "stream",
     "text": [
      "2025-10-04 16:41:50,753 - INFO - Starting OpenBuildingsGCSProcessor processing\n",
      "2025-10-04 16:41:50,765 - INFO - Initialized GCS client with anonymous access\n",
      "2025-10-04 16:41:50,774 - INFO - Computing S2 cell coverage for AOI...\n",
      "2025-10-04 16:41:50,775 - INFO - Processing 2 S2 level-6 cells with 8 parallel workers\n",
      "2025-10-04 16:41:50,775 - INFO - Downloading and filtering buildings from GCS...\n"
     ]
    },
    {
     "name": "stdout",
     "output_type": "stream",
     "text": [
      "🚀 Starting building extraction...\n",
      "\n"
     ]
    },
    {
     "data": {
      "application/vnd.jupyter.widget-view+json": {
       "model_id": "0b299e00d3594ef7b368259854358441",
       "version_major": 2,
       "version_minor": 0
      },
      "text/plain": [
       "Output()"
      ]
     },
     "metadata": {},
     "output_type": "display_data"
    },
    {
     "data": {
      "text/html": [
       "<pre style=\"white-space:pre;overflow-x:auto;line-height:normal;font-family:Menlo,'DejaVu Sans Mono',consolas,'Courier New',monospace\"></pre>\n"
      ],
      "text/plain": []
     },
     "metadata": {},
     "output_type": "display_data"
    },
    {
     "name": "stderr",
     "output_type": "stream",
     "text": [
      "2025-10-04 16:43:45,609 - INFO - Processing S2 cells completed: 2/2 items in 114.8s (0.0 items/sec)\n",
      "2025-10-04 16:44:35,089 - INFO - Created 1,988,802 records\n",
      "2025-10-04 16:44:35,117 - INFO - Exported 1988802 buildings to ../data/02_clipped/open_buildings.geojson\n",
      "2025-10-04 16:44:35,665 - INFO - Successfully extracted 1,988,802 buildings from 2 S2 cells\n",
      "2025-10-04 16:44:35,666 - INFO - Successfully completed OpenBuildingsGCSProcessor processing\n"
     ]
    },
    {
     "name": "stdout",
     "output_type": "stream",
     "text": [
      "\n",
      "✅ Successfully extracted 1,988,802 buildings from 2 S2 cells\n",
      "\n",
      "📊 Summary:\n",
      "  Buildings extracted: 1,988,802\n",
      "  Processing time: 164.9s\n",
      "  Output file: ../data/02_clipped/open_buildings.geojson\n",
      "  File size: 877.28 MB\n",
      "\n",
      "🎉 Extraction completed successfully!\n"
     ]
    }
   ],
   "source": [
    "print(\"🚀 Starting building extraction...\\n\")\n",
    "\n",
    "try:\n",
    "    # Create processor\n",
    "    processor = OpenBuildingsGCSProcessor(gcs_config)\n",
    "    \n",
    "    # Run extraction\n",
    "    result = processor.process()\n",
    "    \n",
    "    # Display results\n",
    "    if result.success:\n",
    "        print(f\"\\n✅ {result.message}\")\n",
    "        print(f\"\\n📊 Summary:\")\n",
    "        print(f\"  Buildings extracted: {result.processed_count:,}\")\n",
    "        print(f\"  Processing time: {result.elapsed_time:.1f}s\")\n",
    "        print(f\"  Output file: {result.output_paths[0]}\")\n",
    "        \n",
    "        # File size\n",
    "        if result.output_paths[0].exists():\n",
    "            file_size_mb = result.output_paths[0].stat().st_size / (1024 * 1024)\n",
    "            print(f\"  File size: {file_size_mb:.2f} MB\")\n",
    "        \n",
    "        # Show metrics\n",
    "        if hasattr(processor, 'get_metric'):\n",
    "            s2_cells = processor.get_metric('s2_cells_processed')\n",
    "            if s2_cells:\n",
    "                print(f\"  S2 cells processed: {s2_cells}\")\n",
    "        \n",
    "        print(\"\\n🎉 Extraction completed successfully!\")\n",
    "        \n",
    "    else:\n",
    "        print(f\"\\n❌ Extraction failed: {result.message}\")\n",
    "        \n",
    "except Exception as e:\n",
    "    print(f\"\\n❌ Error: {e}\")\n",
    "    import traceback\n",
    "    traceback.print_exc()"
   ]
  },
  {
   "cell_type": "markdown",
   "id": "verify_results",
   "metadata": {},
   "source": [
    "## Step 4: Verify Results\n",
    "\n",
    "Load and inspect the extracted buildings."
   ]
  },
  {
   "cell_type": "code",
   "execution_count": 8,
   "id": "verify",
   "metadata": {},
   "outputs": [
    {
     "name": "stdout",
     "output_type": "stream",
     "text": [
      "📊 Building Statistics:\n",
      "  Total buildings: 1,988,802\n",
      "  Average area: 129.0 m²\n",
      "  Median area: 85.4 m²\n",
      "  Average confidence: 0.844\n",
      "\n",
      "  Area range: 8.0 - 39628.0 m²\n",
      "  Confidence range: 0.750 - 0.987\n",
      "\n",
      "🔍 Sample records:\n",
      "   confidence  area_in_meters\n",
      "0      0.8641         66.3996\n",
      "1      0.8415         69.9676\n",
      "2      0.8818        178.0097\n",
      "3      0.8803         47.2763\n",
      "4      0.7980         99.3359\n"
     ]
    }
   ],
   "source": [
    "import geopandas as gpd\n",
    "\n",
    "if output_file.exists():\n",
    "    # Load buildings\n",
    "    buildings = gpd.read_file(result.output_paths[0])\n",
    "    \n",
    "    print(f\"📊 Building Statistics:\")\n",
    "    print(f\"  Total buildings: {len(buildings):,}\")\n",
    "    print(f\"  Average area: {buildings['area_in_meters'].mean():.1f} m²\")\n",
    "    print(f\"  Median area: {buildings['area_in_meters'].median():.1f} m²\")\n",
    "    print(f\"  Average confidence: {buildings['confidence'].mean():.3f}\")\n",
    "    print(f\"\\n  Area range: {buildings['area_in_meters'].min():.1f} - {buildings['area_in_meters'].max():.1f} m²\")\n",
    "    print(f\"  Confidence range: {buildings['confidence'].min():.3f} - {buildings['confidence'].max():.3f}\")\n",
    "    \n",
    "    # Show first few records\n",
    "    print(f\"\\n🔍 Sample records:\")\n",
    "    print(buildings[['confidence', 'area_in_meters']].head())\n",
    "    \n",
    "else:\n",
    "    print(\"❌ Output file not found\")"
   ]
  },
  {
   "cell_type": "markdown",
   "id": "troubleshooting",
   "metadata": {},
   "source": [
    "## Troubleshooting\n",
    "\n",
    "### No buildings extracted?\n",
    "- Check AOI location (must be in covered area)\n",
    "- Lower confidence threshold: `confidence_threshold=0.5`\n",
    "- Remove area filters temporarily\n",
    "\n",
    "### Slow extraction?\n",
    "- Increase workers: `num_workers=8`\n",
    "- Use CSV format (faster): `export_format=\"csv\"`\n",
    "- Check network speed\n",
    "\n",
    "### Memory issues?\n",
    "- Reduce workers: `num_workers=2`\n",
    "- Use smaller AOI\n",
    "- Process in batches\n",
    "\n",
    "### Import errors?\n",
    "```bash\n",
    "pip install geoworkflow[extraction]\n",
    "```"
   ]
  }
 ],
 "metadata": {
  "kernelspec": {
   "display_name": "geoworkflow",
   "language": "python",
   "name": "python3"
  },
  "language_info": {
   "codemirror_mode": {
    "name": "ipython",
    "version": 3
   },
   "file_extension": ".py",
   "mimetype": "text/x-python",
   "name": "python",
   "nbconvert_exporter": "python",
   "pygments_lexer": "ipython3",
   "version": "3.10.18"
  }
 },
 "nbformat": 4,
 "nbformat_minor": 5
}
