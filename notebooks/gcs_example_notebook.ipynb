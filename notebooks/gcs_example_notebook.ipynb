{
 "cells": [
  {
   "cell_type": "markdown",
   "id": "cc284098",
   "metadata": {},
   "source": [
    "# Open Buildings Extraction via GCS (Fast Method)\n",
    "\n",
    "This notebook demonstrates the **GCS-based extraction method** - significantly faster than Earth Engine.\n",
    "\n",
    "```\n",
    "┌─────────────────────────────────────┐\n",
    "│  Create AOI (Area of Interest)      │\n",
    "│  - Load AFRICAPOLIS2020.geojson     │\n",
    "│  - Filter for Accra agglomeration   │\n",
    "│  - Output: accra_aoi.geojson        │\n",
    "└─────────────┬───────────────────────┘\n",
    "              │\n",
    "              ▼\n",
    "┌─────────────────────────────────────┐\n",
    "│  Configure GCS Extraction           │\n",
    "│  - Set confidence threshold (0.75)  │\n",
    "│  - Set area filters (10-1000 m²)    │\n",
    "│  - Set parallel workers (4)         │\n",
    "│  - Choose output format (GeoJSON)   │\n",
    "└─────────────┬───────────────────────┘\n",
    "              │\n",
    "              ▼\n",
    "┌─────────────────────────────────────┐\n",
    "│  Extract Buildings from GCS         │\n",
    "│  - NO authentication required!      │\n",
    "│  - Direct download from GCS         │\n",
    "│  - Parallel S2 cell processing      │\n",
    "│  - Filter by confidence & area      │\n",
    "│  - Apply spatial intersection       │\n",
    "│  - Export: accra_buildings.geojson  │\n",
    "└─────────────────────────────────────┘\n",
    "```\n",
    "\n",
    "## Key Advantages over Earth Engine Method\n",
    "\n",
    "**Speed:**\n",
    "- Small area (10 km²): 30-60 seconds vs 2-5 minutes\n",
    "- Medium city (100 km²): 2-5 minutes vs 10-30 minutes\n",
    "- Large city (1000 km²): 10-20 minutes vs 1-2 hours\n",
    "\n",
    "**Simplicity:**\n",
    "- No authentication needed (public data)\n",
    "- No API quotas or timeouts\n",
    "- Windows-compatible\n",
    "\n",
    "**Input Data:**\n",
    "- `AFRICAPOLIS2020.geojson` → AOI creation\n",
    "- No service account needed!\n",
    "\n",
    "**Output:**\n",
    "- `accra_aoi.geojson` (area boundary)\n",
    "- `accra_buildings.geojson` (building polygons)"
   ]
  },
  {
   "cell_type": "code",
   "execution_count": 1,
   "id": "d790db8b",
   "metadata": {},
   "outputs": [],
   "source": [
    "from pathlib import Path\n",
    "import logging\n",
    "\n",
    "# GeoWorkflow imports\n",
    "from geoworkflow.schemas.config_models import AOIConfig\n",
    "from geoworkflow.processors.aoi.processor import AOIProcessor\n",
    "from geoworkflow.schemas.open_buildings_gcs_config import OpenBuildingsGCSConfig\n",
    "from geoworkflow.processors.extraction.open_buildings_gcs import OpenBuildingsGCSProcessor"
   ]
  },
  {
   "cell_type": "markdown",
   "id": "setup_logging",
   "metadata": {},
   "source": [
    "## Optional: Setup Logging\n",
    "\n",
    "Create a status logging tracker to monitor progress. This is **OPTIONAL** - you can skip this cell and remove logging statements below if preferred."
   ]
  },
  {
   "cell_type": "code",
   "execution_count": 2,
   "id": "4f39a4a7",
   "metadata": {},
   "outputs": [],
   "source": [
    "# Setup logging (OPTIONAL)\n",
    "logging.basicConfig(\n",
    "    level=logging.INFO,\n",
    "    format='%(asctime)s - %(levelname)s - %(message)s'\n",
    ")\n",
    "logger = logging.getLogger(__name__)"
   ]
  },
  {
   "cell_type": "markdown",
   "id": "create_aoi",
   "metadata": {},
   "source": [
    "## Step 1: Create Area of Interest (AOI)\n",
    "\n",
    "Extract the Accra boundary from AFRICAPOLIS data. This is the same as the Earth Engine workflow."
   ]
  },
  {
   "cell_type": "code",
   "execution_count": 3,
   "id": "ee410e3a",
   "metadata": {},
   "outputs": [
    {
     "name": "stderr",
     "output_type": "stream",
     "text": [
      "2025-10-04 16:41:42,828 - INFO - Starting AOIProcessor processing\n"
     ]
    },
    {
     "data": {
      "application/vnd.jupyter.widget-view+json": {
       "model_id": "f38b5e80c10c4134bfb6a51b7fa6d891",
       "version_major": 2,
       "version_minor": 0
      },
      "text/plain": [
       "Output()"
      ]
     },
     "metadata": {},
     "output_type": "display_data"
    },
    {
     "name": "stderr",
     "output_type": "stream",
     "text": [
      "2025-10-04 16:41:45,428 - INFO - Loading administrative boundaries\n"
     ]
    },
    {
     "name": "stderr",
     "output_type": "stream",
     "text": [
      "2025-10-04 16:41:48,047 - INFO - Filtering 1 countries\n",
      "2025-10-04 16:41:48,049 - INFO - Saving AOI to ../data/aoi/accra_aoi.geojson\n",
      "2025-10-04 16:41:48,065 - INFO - Created 1 records\n"
     ]
    },
    {
     "data": {
      "text/html": [
       "<pre style=\"white-space:pre;overflow-x:auto;line-height:normal;font-family:Menlo,'DejaVu Sans Mono',consolas,'Courier New',monospace\"></pre>\n"
      ],
      "text/plain": []
     },
     "metadata": {},
     "output_type": "display_data"
    },
    {
     "name": "stderr",
     "output_type": "stream",
     "text": [
      "2025-10-04 16:41:48,073 - INFO - AOI saved successfully completed: 4/3 items in 2.6s (1.5 items/sec)\n",
      "2025-10-04 16:41:48,073 - INFO - Successfully completed AOIProcessor processing\n"
     ]
    },
    {
     "name": "stdout",
     "output_type": "stream",
     "text": [
      "✅ Successfully created AOI with 1 features\n",
      "Processing time: 5.25s\n",
      "Output: ../data/aoi/accra_aoi.geojson\n"
     ]
    }
   ],
   "source": [
    "# Define AOI output path\n",
    "aoi_file = Path(\"../data/aoi/accra_aoi.geojson\")\n",
    "#aoi_file = Path(\"../data/aoi/accra_sample_aoi.geojson\")\n",
    "\n",
    "# Create AOI configuration for Accra\n",
    "aoi_config = AOIConfig(\n",
    "    input_file=Path(\"../data/01_extracted/AFRICAPOLIS2020.geojson\"),\n",
    "    country_name_column=\"agglosName\",\n",
    "    countries=[\"Accra\"],\n",
    "    buffer_km=0,\n",
    "    dissolve_boundaries=False,\n",
    "    output_file=aoi_file\n",
    ")\n",
    "\n",
    "# Create and run the processor\n",
    "aoi_processor = AOIProcessor(aoi_config)\n",
    "aoi_result = aoi_processor.process()\n",
    "\n",
    "# Check results\n",
    "if aoi_result.success:\n",
    "    print(f\"✅ {aoi_result.message}\")\n",
    "    print(f\"Processing time: {aoi_result.elapsed_time:.2f}s\")\n",
    "    print(f\"Output: {aoi_file}\")\n",
    "else:\n",
    "    print(f\"❌ Failed: {aoi_result.message}\")"
   ]
  },
  {
   "cell_type": "code",
   "execution_count": 4,
   "id": "4c39d26a",
   "metadata": {},
   "outputs": [
    {
     "name": "stdout",
     "output_type": "stream",
     "text": [
      "AOI CRS: EPSG:4326\n",
      "AOI bounds: [-0.526448  5.448655  0.170781  5.86578 ]\n",
      "AOI geometry type: Polygon\n",
      "\n",
      "Africapolis CRS: EPSG:4326\n",
      "Accra bounds in original file: [-0.526448  5.448655  0.170781  5.86578 ]\n"
     ]
    }
   ],
   "source": [
    "import geopandas as gpd\n",
    "\n",
    "# Check AOI CRS\n",
    "aoi_gdf = gpd.read_file(\"../data/aoi/accra_sample_aoi.geojson\")\n",
    "print(f\"AOI CRS: {aoi_gdf.crs}\")\n",
    "print(f\"AOI bounds: {aoi_gdf.total_bounds}\")\n",
    "print(f\"AOI geometry type: {aoi_gdf.geometry.iloc[0].geom_type}\")\n",
    "\n",
    "# For comparison, check original Africapolis\n",
    "africapolis = gpd.read_file(\"../data/01_extracted/AFRICAPOLIS2020.geojson\")\n",
    "print(f\"\\nAfricapolis CRS: {africapolis.crs}\")\n",
    "accra_orig = africapolis[africapolis['agglosName'] == 'Accra']\n",
    "print(f\"Accra bounds in original file: {accra_orig.total_bounds}\")"
   ]
  },
  {
   "cell_type": "markdown",
   "id": "extract_buildings",
   "metadata": {},
   "source": [
    "## Step 2: Extract Buildings via GCS\n",
    "\n",
    "This is where the magic happens! No authentication needed, just configure and run.\n",
    "\n",
    "**For testing:** Use the smaller sample AOI (faster, ~1-2 minutes)  \n",
    "**For production:** Use the full Accra AOI (complete data, ~5-10 minutes)"
   ]
  },
  {
   "cell_type": "code",
   "execution_count": 5,
   "id": "configure_extraction",
   "metadata": {},
   "outputs": [
    {
     "name": "stdout",
     "output_type": "stream",
     "text": [
      "📋 Configuration:\n",
      "  Input AOI: ../data/aoi/accra_aoi.geojson\n",
      "  Output: ../data/02_clipped/open_buildings.geojson\n",
      "  Confidence: ≥0.75\n",
      "  Area range: 8.0-100000.0 m²\n",
      "  Workers: 8\n"
     ]
    }
   ],
   "source": [
    "# Choose your AOI and output\n",
    "# Option 1: Small sample for testing (RECOMMENDED FOR FIRST RUN)\n",
    "input_aoi = Path(\"../data/aoi/accra_sample_aoi.geojson\")\n",
    "output_file = Path(\"../data/02_clipped/accra_buildings_sample.geojson\")\n",
    "\n",
    "# Option 2: Full Accra area (uncomment to use)\n",
    "input_aoi = Path(\"../data/aoi/accra_aoi.geojson\")\n",
    "output_file = Path(\"../data/02_clipped/all_accra_buildings.geojson\")\n",
    "\n",
    "# Configure extraction\n",
    "gcs_config = OpenBuildingsGCSConfig(\n",
    "    aoi_file=input_aoi,\n",
    "    output_dir=output_file.parent,\n",
    "    \n",
    "    # Quality filters\n",
    "    confidence_threshold=0.75,  # Min confidence (0.5-1.0)\n",
    "    min_area_m2=8.0,           # Min building size\n",
    "    max_area_m2=100000.0,       # Max building size\n",
    "    \n",
    "    # Output settings\n",
    "    export_format=\"geojson\",    # Options: geojson, shapefile, csv\n",
    "    overwrite_existing=True,     # Overwrite if exists\n",
    "    \n",
    "    # Performance\n",
    "    num_workers=8                # Parallel workers (adjust based on CPU)\n",
    ")\n",
    "\n",
    "# Update output file to match config\n",
    "output_file = gcs_config.get_output_file_path()\n",
    "\n",
    "print(\"📋 Configuration:\")\n",
    "print(f\"  Input AOI: {input_aoi}\")\n",
    "print(f\"  Output: {output_file}\")\n",
    "print(f\"  Confidence: ≥{gcs_config.confidence_threshold}\")\n",
    "print(f\"  Area range: {gcs_config.min_area_m2}-{gcs_config.max_area_m2} m²\")\n",
    "print(f\"  Workers: {gcs_config.num_workers}\")"
   ]
  },
  {
   "cell_type": "code",
   "execution_count": 6,
   "id": "8f15baf4",
   "metadata": {},
   "outputs": [
    {
     "name": "stdout",
     "output_type": "stream",
     "text": [
      "True\n",
      "{'aoi_file': '../data/aoi/accra_aoi.geojson', 'output_dir': '../data/02_clipped', 'data_type': 'polygons', 's2_level': 6, 'gcs_bucket_path': 'gs://open-buildings-data/v3/polygons_s2_level_6_gzip_no_header', 'confidence_threshold': 0.75, 'min_area_m2': 8.0, 'max_area_m2': 100000.0, 'export_format': 'geojson', 'include_confidence': True, 'include_area': True, 'include_plus_codes': True, 'overwrite_existing': True, 'num_workers': 8, 'chunk_size': 2000000, 'service_account_key': None, 'use_anonymous_access': True}\n"
     ]
    }
   ],
   "source": [
    "if isinstance(gcs_config, OpenBuildingsGCSConfig):\n",
    "    print(True)\n",
    "    config_dict = gcs_config.model_dump(mode='json')\n",
    "\n",
    "print(config_dict)"
   ]
  },
  {
   "cell_type": "markdown",
   "id": "run_extraction",
   "metadata": {},
   "source": [
    "## Step 3: Run the Extraction\n",
    "\n",
    "This cell does the actual extraction. Progress will be shown in real-time.\n",
    "\n",
    "**Expected time:**\n",
    "- Sample area: ~1-2 minutes\n",
    "- Full Accra: ~5-10 minutes"
   ]
  },
  {
   "cell_type": "code",
   "execution_count": 7,
   "id": "b67ee052",
   "metadata": {},
   "outputs": [
    {
     "name": "stderr",
     "output_type": "stream",
     "text": [
      "2025-10-04 16:41:50,753 - INFO - Starting OpenBuildingsGCSProcessor processing\n",
      "2025-10-04 16:41:50,765 - INFO - Initialized GCS client with anonymous access\n",
      "2025-10-04 16:41:50,774 - INFO - Computing S2 cell coverage for AOI...\n",
      "2025-10-04 16:41:50,775 - INFO - Processing 2 S2 level-6 cells with 8 parallel workers\n",
      "2025-10-04 16:41:50,775 - INFO - Downloading and filtering buildings from GCS...\n"
     ]
    },
    {
     "name": "stdout",
     "output_type": "stream",
     "text": [
      "🚀 Starting building extraction...\n",
      "\n"
     ]
    },
    {
     "data": {
      "application/vnd.jupyter.widget-view+json": {
       "model_id": "0b299e00d3594ef7b368259854358441",
       "version_major": 2,
       "version_minor": 0
      },
      "text/plain": [
       "Output()"
      ]
     },
     "metadata": {},
     "output_type": "display_data"
    },
    {
     "data": {
      "text/html": [
       "<pre style=\"white-space:pre;overflow-x:auto;line-height:normal;font-family:Menlo,'DejaVu Sans Mono',consolas,'Courier New',monospace\"></pre>\n"
      ],
      "text/plain": []
     },
     "metadata": {},
     "output_type": "display_data"
    },
    {
     "name": "stderr",
     "output_type": "stream",
     "text": [
      "2025-10-04 16:43:45,609 - INFO - Processing S2 cells completed: 2/2 items in 114.8s (0.0 items/sec)\n",
      "2025-10-04 16:44:35,089 - INFO - Created 1,988,802 records\n",
      "2025-10-04 16:44:35,117 - INFO - Exported 1988802 buildings to ../data/02_clipped/open_buildings.geojson\n",
      "2025-10-04 16:44:35,665 - INFO - Successfully extracted 1,988,802 buildings from 2 S2 cells\n",
      "2025-10-04 16:44:35,666 - INFO - Successfully completed OpenBuildingsGCSProcessor processing\n"
     ]
    },
    {
     "name": "stdout",
     "output_type": "stream",
     "text": [
      "\n",
      "✅ Successfully extracted 1,988,802 buildings from 2 S2 cells\n",
      "\n",
      "📊 Summary:\n",
      "  Buildings extracted: 1,988,802\n",
      "  Processing time: 164.9s\n",
      "  Output file: ../data/02_clipped/open_buildings.geojson\n",
      "  File size: 877.28 MB\n",
      "\n",
      "🎉 Extraction completed successfully!\n"
     ]
    }
   ],
   "source": [
    "print(\"🚀 Starting building extraction...\\n\")\n",
    "\n",
    "try:\n",
    "    # Create processor\n",
    "    processor = OpenBuildingsGCSProcessor(gcs_config)\n",
    "    \n",
    "    # Run extraction\n",
    "    result = processor.process()\n",
    "    \n",
    "    # Display results\n",
    "    if result.success:\n",
    "        print(f\"\\n✅ {result.message}\")\n",
    "        print(f\"\\n📊 Summary:\")\n",
    "        print(f\"  Buildings extracted: {result.processed_count:,}\")\n",
    "        print(f\"  Processing time: {result.elapsed_time:.1f}s\")\n",
    "        print(f\"  Output file: {result.output_paths[0]}\")\n",
    "        \n",
    "        # File size\n",
    "        if result.output_paths[0].exists():\n",
    "            file_size_mb = result.output_paths[0].stat().st_size / (1024 * 1024)\n",
    "            print(f\"  File size: {file_size_mb:.2f} MB\")\n",
    "        \n",
    "        # Show metrics\n",
    "        if hasattr(processor, 'get_metric'):\n",
    "            s2_cells = processor.get_metric('s2_cells_processed')\n",
    "            if s2_cells:\n",
    "                print(f\"  S2 cells processed: {s2_cells}\")\n",
    "        \n",
    "        print(\"\\n🎉 Extraction completed successfully!\")\n",
    "        \n",
    "    else:\n",
    "        print(f\"\\n❌ Extraction failed: {result.message}\")\n",
    "        \n",
    "except Exception as e:\n",
    "    print(f\"\\n❌ Error: {e}\")\n",
    "    import traceback\n",
    "    traceback.print_exc()"
   ]
  },
  {
   "cell_type": "markdown",
   "id": "verify_results",
   "metadata": {},
   "source": [
    "## Step 4: Verify Results\n",
    "\n",
    "Load and inspect the extracted buildings."
   ]
  },
  {
   "cell_type": "code",
   "execution_count": 8,
   "id": "verify",
   "metadata": {},
   "outputs": [
    {
     "name": "stdout",
     "output_type": "stream",
     "text": [
      "📊 Building Statistics:\n",
      "  Total buildings: 1,988,802\n",
      "  Average area: 129.0 m²\n",
      "  Median area: 85.4 m²\n",
      "  Average confidence: 0.844\n",
      "\n",
      "  Area range: 8.0 - 39628.0 m²\n",
      "  Confidence range: 0.750 - 0.987\n",
      "\n",
      "🔍 Sample records:\n",
      "   confidence  area_in_meters\n",
      "0      0.8641         66.3996\n",
      "1      0.8415         69.9676\n",
      "2      0.8818        178.0097\n",
      "3      0.8803         47.2763\n",
      "4      0.7980         99.3359\n"
     ]
    }
   ],
   "source": [
    "import geopandas as gpd\n",
    "\n",
    "if output_file.exists():\n",
    "    # Load buildings\n",
    "    buildings = gpd.read_file(result.output_paths[0])\n",
    "    \n",
    "    print(f\"📊 Building Statistics:\")\n",
    "    print(f\"  Total buildings: {len(buildings):,}\")\n",
    "    print(f\"  Average area: {buildings['area_in_meters'].mean():.1f} m²\")\n",
    "    print(f\"  Median area: {buildings['area_in_meters'].median():.1f} m²\")\n",
    "    print(f\"  Average confidence: {buildings['confidence'].mean():.3f}\")\n",
    "    print(f\"\\n  Area range: {buildings['area_in_meters'].min():.1f} - {buildings['area_in_meters'].max():.1f} m²\")\n",
    "    print(f\"  Confidence range: {buildings['confidence'].min():.3f} - {buildings['confidence'].max():.3f}\")\n",
    "    \n",
    "    # Show first few records\n",
    "    print(f\"\\n🔍 Sample records:\")\n",
    "    print(buildings[['confidence', 'area_in_meters']].head())\n",
    "    \n",
    "else:\n",
    "    print(\"❌ Output file not found\")"
   ]
  },
  {
   "cell_type": "markdown",
   "id": "troubleshooting",
   "metadata": {},
   "source": [
    "## Troubleshooting\n",
    "\n",
    "### No buildings extracted?\n",
    "- Check AOI location (must be in covered area)\n",
    "- Lower confidence threshold: `confidence_threshold=0.5`\n",
    "- Remove area filters temporarily\n",
    "\n",
    "### Slow extraction?\n",
    "- Increase workers: `num_workers=8`\n",
    "- Use CSV format (faster): `export_format=\"csv\"`\n",
    "- Check network speed\n",
    "\n",
    "### Memory issues?\n",
    "- Reduce workers: `num_workers=2`\n",
    "- Use smaller AOI\n",
    "- Process in batches\n",
    "\n",
    "### Import errors?\n",
    "```bash\n",
    "pip install geoworkflow[extraction]\n",
    "```"
   ]
  }
 ],
 "metadata": {
  "kernelspec": {
   "display_name": "geoworkflow",
   "language": "python",
   "name": "python3"
  },
  "language_info": {
   "codemirror_mode": {
    "name": "ipython",
    "version": 3
   },
   "file_extension": ".py",
   "mimetype": "text/x-python",
   "name": "python",
   "nbconvert_exporter": "python",
   "pygments_lexer": "ipython3",
   "version": "3.10.18"
  }
 },
 "nbformat": 4,
 "nbformat_minor": 5
}
